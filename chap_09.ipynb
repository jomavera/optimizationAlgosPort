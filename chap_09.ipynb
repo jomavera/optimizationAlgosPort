{
 "cells": [
  {
   "cell_type": "markdown",
   "source": [
    "# Chapter 9: Population Methods"
   ],
   "metadata": {}
  },
  {
   "cell_type": "code",
   "execution_count": 3,
   "source": [
    "import numpy as np\n",
    "from scipy import stats"
   ],
   "outputs": [],
   "metadata": {}
  },
  {
   "cell_type": "markdown",
   "source": [
    "## Algorithm 9.1"
   ],
   "metadata": {}
  },
  {
   "cell_type": "code",
   "execution_count": 7,
   "source": [
    "def rand_population_uniform(m, a, b):\n",
    "    d = a.shape[0]\n",
    "    return [ a+np.random.random(d)*(b-a) for i in range(m) ]"
   ],
   "outputs": [],
   "metadata": {}
  },
  {
   "cell_type": "markdown",
   "source": [
    "## Algorithm 9.2"
   ],
   "metadata": {}
  },
  {
   "cell_type": "code",
   "execution_count": 11,
   "source": [
    "def rand_population_normal(m ,mu, sigma):\n",
    "    D = stats.multivariate_normal(mean=mu, cov=sigma)\n",
    "    return [ D.rvs() for i in range(m)]"
   ],
   "outputs": [],
   "metadata": {}
  },
  {
   "cell_type": "markdown",
   "source": [
    "## Algorithm 9.3"
   ],
   "metadata": {}
  },
  {
   "cell_type": "code",
   "execution_count": 13,
   "source": [
    "def rand_population_cauchy(m, mu, sigma):\n",
    "    n = mu.shape[0]\n",
    "    return [ [stats.cauchy(loc=mu[i],scale=sigma[i]).rvs() for i in range(n)] for j in range(m)]"
   ],
   "outputs": [],
   "metadata": {}
  },
  {
   "cell_type": "markdown",
   "source": [
    "## Algorithm 9.5"
   ],
   "metadata": {}
  },
  {
   "cell_type": "code",
   "execution_count": 40,
   "source": [
    "def rand_population_binary(m, n):\n",
    "    nums = []\n",
    "    for i in range(m):\n",
    "        arr = np.random.randint(2, size=(n,))\n",
    "        num = str(arr).replace('[','').replace(']','').replace(' ','')\n",
    "        nums.append(num)\n",
    "    return nums"
   ],
   "outputs": [],
   "metadata": {}
  },
  {
   "cell_type": "markdown",
   "source": [
    "## Algorithm 9.6"
   ],
   "metadata": {}
  },
  {
   "cell_type": "code",
   "execution_count": 41,
   "source": [
    "def TruncationSelection(k, y):\n",
    "    p = np.argsort(y)\n",
    "    return [ p[np.random.randint(k,size=(2,))] for i in y ]\n",
    "\n",
    "def TournamentSelection(k, y):\n",
    "    def getparent():\n",
    "        p = np.random.permutation(len(y))\n",
    "        y_np = np.array(y)\n",
    "        return np.argmin(y_np[p[:k]])\n",
    "    return [ [getparent(), getparent()] for i in y ]\n",
    "\n",
    "def RouletteWheelSelection(y):\n",
    "    y = np.max(y) - np.array(y)\n",
    "    normalize = y / np.linalg.norm(y, 1)\n",
    "    return [np.random.choice(a=np.arange(0,len(y),1), p=normalize, size=2 ) for i in y]"
   ],
   "outputs": [],
   "metadata": {}
  },
  {
   "cell_type": "markdown",
   "source": [
    "## Algorithm 9.7"
   ],
   "metadata": {}
  },
  {
   "cell_type": "code",
   "execution_count": 42,
   "source": [
    "'''\n",
    "For Binary string chromosomes\n",
    "'''\n",
    "def singlePointCrossover(a,b):\n",
    "    i = np.random.randint(low=0, high=len(a))\n",
    "    return a[:i] + b[i:]\n",
    "\n",
    "def twoPointCrossover(a, b):\n",
    "    n = len(a)\n",
    "    i, j = np.random.randint(low=0,high=n,size=2)\n",
    "\n",
    "    if i > j:\n",
    "        (i, j) = (j,i)\n",
    "    \n",
    "    return a[:i] + b[i:j] + a[j:n]\n",
    "\n",
    "def uniformCrossover(a, b):\n",
    "    child = copy(a)\n",
    "    for i in range(len(a)):\n",
    "        if np.random.random() < 0.5:\n",
    "            child[i] = b[i]\n",
    "    \n",
    "    return child"
   ],
   "outputs": [],
   "metadata": {}
  }
 ],
 "metadata": {
  "orig_nbformat": 4,
  "language_info": {
   "name": "python",
   "version": "3.8.10",
   "mimetype": "text/x-python",
   "codemirror_mode": {
    "name": "ipython",
    "version": 3
   },
   "pygments_lexer": "ipython3",
   "nbconvert_exporter": "python",
   "file_extension": ".py"
  },
  "kernelspec": {
   "name": "python3",
   "display_name": "Python 3.8.10 64-bit ('optAlgos': conda)"
  },
  "interpreter": {
   "hash": "ba3b919a19380c03e01f18adb9941583c39169f4907f8bc2002c90bf52d7e13c"
  }
 },
 "nbformat": 4,
 "nbformat_minor": 2
}