{
 "cells": [
  {
   "cell_type": "markdown",
   "source": [
    "# Chapter 9: Population Methods"
   ],
   "metadata": {}
  },
  {
   "cell_type": "code",
   "execution_count": 3,
   "source": [
    "import numpy as np\n",
    "from scipy import stats\n",
    "from copy import copy"
   ],
   "outputs": [],
   "metadata": {}
  },
  {
   "cell_type": "markdown",
   "source": [
    "## Algorithm 9.1"
   ],
   "metadata": {}
  },
  {
   "cell_type": "code",
   "execution_count": 78,
   "source": [
    "def rand_population_uniform(m, a, b):\n",
    "    d = a.shape[0]\n",
    "    return [ a + np.random.random(d)*(b-a) for i in range(m) ]"
   ],
   "outputs": [],
   "metadata": {}
  },
  {
   "cell_type": "markdown",
   "source": [
    "## Algorithm 9.2"
   ],
   "metadata": {}
  },
  {
   "cell_type": "code",
   "execution_count": 11,
   "source": [
    "def rand_population_normal(m ,mu, sigma):\n",
    "    D = stats.multivariate_normal(mean=mu, cov=sigma)\n",
    "    return [ D.rvs() for i in range(m)]"
   ],
   "outputs": [],
   "metadata": {}
  },
  {
   "cell_type": "markdown",
   "source": [
    "## Algorithm 9.3"
   ],
   "metadata": {}
  },
  {
   "cell_type": "code",
   "execution_count": 13,
   "source": [
    "def rand_population_cauchy(m, mu, sigma):\n",
    "    n = mu.shape[0]\n",
    "    return [ [stats.cauchy(loc=mu[i],scale=sigma[i]).rvs() for i in range(n)] for j in range(m)]"
   ],
   "outputs": [],
   "metadata": {}
  },
  {
   "cell_type": "markdown",
   "source": [
    "## Algorithm 9.4"
   ],
   "metadata": {}
  },
  {
   "cell_type": "code",
   "execution_count": null,
   "source": [
    "def genetic_algorithm(f, population, k_max, S, C, M):\n",
    "    for k in range(k_max):\n",
    "        y = [ f(pop_val)  for pop_val in population]\n",
    "        parents = S.select(y)\n",
    "        children = [C.crossover( population[p[0]], population[p[1]] ) for  p in parents]\n",
    "\n",
    "        population = [M.mutate(child) for child in children]\n",
    "    return population[ np.argmin(f(population))]"
   ],
   "outputs": [],
   "metadata": {}
  },
  {
   "cell_type": "markdown",
   "source": [
    "### Example"
   ],
   "metadata": {}
  },
  {
   "cell_type": "code",
   "execution_count": null,
   "source": [
    "f = lambda x : np.linalg.norm(x)\n",
    "m = 100\n",
    "k_max = 10\n",
    "population = rand_population_uniform(m, np.array([-3, 3]), np.array([3,3]) )\n",
    "S = TruncationSelection(10)\n",
    "C = SinglePointCrossover()\n",
    "M = GaussianMutation(0.5)\n",
    "\n",
    "x = genetic_algorithm(f, population, k_max, S, C, M)"
   ],
   "outputs": [],
   "metadata": {}
  },
  {
   "cell_type": "markdown",
   "source": [
    "## Algorithm 9.5"
   ],
   "metadata": {}
  },
  {
   "cell_type": "code",
   "execution_count": 40,
   "source": [
    "def rand_population_binary(m, n):\n",
    "    nums = []\n",
    "    for i in range(m):\n",
    "        arr = np.random.randint(2, size=(n,))\n",
    "        num = str(arr).replace('[','').replace(']','').replace(' ','')\n",
    "        nums.append(num)\n",
    "    return nums"
   ],
   "outputs": [],
   "metadata": {}
  },
  {
   "cell_type": "markdown",
   "source": [
    "## Algorithm 9.6"
   ],
   "metadata": {}
  },
  {
   "cell_type": "code",
   "execution_count": 41,
   "source": [
    "class TruncationSelection:\n",
    "\n",
    "    def __init__(self,k):\n",
    "        self.k = k\n",
    "\n",
    "    def select(self, y):\n",
    "        p = np.argsort(y)\n",
    "        return [ p[np.random.randint(self.k, size=(2,))] for i in y ]\n",
    "\n",
    "\n",
    "class TournamentSelection:\n",
    "\n",
    "    def __init__(self,k):\n",
    "        self.k = k\n",
    "\n",
    "    def select(self, y):\n",
    "        return [ [self.getparent(y), self.getparent(y)] for i in y ]\n",
    "\n",
    "    def getparent(self, y):\n",
    "        p = np.random.permutation(len(y))\n",
    "        y_np = np.array(y)\n",
    "        return np.argmin(y_np[p[:self.k]])\n",
    "\n",
    "class RouletteWheelSelection:\n",
    "\n",
    "    def select(self):\n",
    "        y = np.max(y) - np.array(y)\n",
    "        normalize = y / np.linalg.norm(y, 1)\n",
    "        return [np.random.choice(a=np.arange(0,len(y),1), p=normalize, size=2 ) for i in y]\n"
   ],
   "outputs": [],
   "metadata": {}
  },
  {
   "cell_type": "markdown",
   "source": [
    "## Algorithm 9.7"
   ],
   "metadata": {}
  },
  {
   "cell_type": "code",
   "execution_count": 93,
   "source": [
    "'''\n",
    "For array of numbers\n",
    "'''\n",
    "class SinglePointCrossover:\n",
    "    \n",
    "    \n",
    "    def crossover(self,a,b):\n",
    "        i = np.random.randint(low=0, high=len(a))\n",
    "        return np.concatenate((a[:i], b[i:]),axis=0)\n",
    "\n",
    "class TwoPointCrossover:\n",
    "    \n",
    "    \n",
    "    def crossover(self, a, b):\n",
    "        n = len(a)\n",
    "        i, j = np.random.randint(low=0,high=n,size=2)\n",
    "\n",
    "        if i > j:\n",
    "            (i, j) = (j,i)\n",
    "        return np.concatenate((np.concatenate((a[:i], b[i:j]),axis=0),a[j:n]),axis=0)\n",
    "\n",
    "class UniformCrossover:\n",
    "    \n",
    "    def crossover(self, a, b):\n",
    "        child = copy(a)\n",
    "        for i in range(len(a)):\n",
    "            if np.random.random() < 0.5:\n",
    "                child[i] = b[i]\n",
    "        return child"
   ],
   "outputs": [],
   "metadata": {}
  },
  {
   "cell_type": "markdown",
   "source": [
    "## Algorithm 9.8"
   ],
   "metadata": {}
  },
  {
   "cell_type": "code",
   "execution_count": null,
   "source": [
    "def interpolationCrossover(lambda_, a, b):\n",
    "    return np.array(a)*(1-lambda_) + np.array(b)*lambda_"
   ],
   "outputs": [],
   "metadata": {}
  },
  {
   "cell_type": "markdown",
   "source": [
    "## Algorithm 9.9"
   ],
   "metadata": {}
  },
  {
   "cell_type": "code",
   "execution_count": 15,
   "source": [
    "class BitwiseMutation:\n",
    "\n",
    "    def __init__(self, lambda_):\n",
    "        self.lambda_= lambda_\n",
    "\n",
    "    def mutate(self, child):\n",
    "        return [ int(not v) if np.random.random() < self.lambda_ else v for v in child ]\n",
    "\n",
    "class GaussianMutation:\n",
    "\n",
    "    def __init__(self, sigma):\n",
    "        self.sigma= sigma\n",
    "\n",
    "    def mutate(self, child):\n",
    "        return child + np.random.normal(size=len(child))*self.sigma"
   ],
   "outputs": [],
   "metadata": {}
  }
 ],
 "metadata": {
  "orig_nbformat": 4,
  "language_info": {
   "name": "python",
   "version": "3.8.10",
   "mimetype": "text/x-python",
   "codemirror_mode": {
    "name": "ipython",
    "version": 3
   },
   "pygments_lexer": "ipython3",
   "nbconvert_exporter": "python",
   "file_extension": ".py"
  },
  "kernelspec": {
   "name": "python3",
   "display_name": "Python 3.8.10 64-bit ('optAlgos': conda)"
  },
  "interpreter": {
   "hash": "ba3b919a19380c03e01f18adb9941583c39169f4907f8bc2002c90bf52d7e13c"
  }
 },
 "nbformat": 4,
 "nbformat_minor": 2
}