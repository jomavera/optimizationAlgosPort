{
 "metadata": {
  "language_info": {
   "codemirror_mode": {
    "name": "ipython",
    "version": 3
   },
   "file_extension": ".py",
   "mimetype": "text/x-python",
   "name": "python",
   "nbconvert_exporter": "python",
   "pygments_lexer": "ipython3",
   "version": "3.8.8"
  },
  "orig_nbformat": 2,
  "kernelspec": {
   "name": "python388jvsc74a57bd0b274a08bf4698fc44e719d0f2c5650b93ce71aff188bd24adbef14bf465b0845",
   "display_name": "Python 3.8.8 64-bit ('gurobi_env': conda)"
  },
  "metadata": {
   "interpreter": {
    "hash": "b274a08bf4698fc44e719d0f2c5650b93ce71aff188bd24adbef14bf465b0845"
   }
  }
 },
 "nbformat": 4,
 "nbformat_minor": 2,
 "cells": [
  {
   "source": [
    "# Chapter 3: Bracketing"
   ],
   "cell_type": "markdown",
   "metadata": {}
  },
  {
   "cell_type": "code",
   "execution_count": 1,
   "metadata": {},
   "outputs": [],
   "source": [
    "import numpy as np\n",
    "from dataclasses import dataclass"
   ]
  },
  {
   "source": [
    "## Algorithm 3.1"
   ],
   "cell_type": "markdown",
   "metadata": {}
  },
  {
   "cell_type": "code",
   "execution_count": null,
   "metadata": {},
   "outputs": [],
   "source": [
    "def bracket_minimum(f, x=0, s=1e-2, k=2.0):\n",
    "    a, ya = x, f(x)\n",
    "    b, yb = a + s, f(a+s)\n",
    "    \n",
    "    if yb > ya:\n",
    "        a, b = b, a\n",
    "        ya, yb = yb, ya\n",
    "        s = -s\n",
    "    \n",
    "    while True:\n",
    "        c, yc = b + s, f(b+s)\n",
    "        if yc > yb:\n",
    "            return (a,c) if a < c else (c, a)\n",
    "        a, ya, b, yb = b, yb, c, yc\n"
   ]
  },
  {
   "source": [
    "## Algorithm 3.2"
   ],
   "cell_type": "markdown",
   "metadata": {}
  },
  {
   "cell_type": "code",
   "execution_count": 54,
   "metadata": {},
   "outputs": [],
   "source": [
    "def fibonacci_search(f, a, b, n, epsilon=0.01):\n",
    "    golden_ratio = 1.61803\n",
    "    s = (1-np.sqrt(5))/(1+np.sqrt(5))\n",
    "    rho = 1/golden_ratio*(1-s**(n+1))/(1-s**n)\n",
    "    d = rho*b + (1- rho)*a\n",
    "    yd = f(d)\n",
    "\n",
    "    for i in range(n-1):\n",
    "        if i == n-1:\n",
    "            c = epsilon*a + (1-epsilon)*d\n",
    "        else:\n",
    "            c = rho*a + (1-rho)*b\n",
    "        yc = f(c)\n",
    "\n",
    "        if yc < yd:\n",
    "            b, d, yd = d, c, yc\n",
    "        else:\n",
    "            a, b = b, c\n",
    "        rho = 1 / (golden_ratio*(1-s**(n-i+1)))/(1-s**(n-i))\n",
    "    return (a,b) if a<b else (b,a)"
   ]
  },
  {
   "source": [
    "## Algorithm 3.3"
   ],
   "cell_type": "markdown",
   "metadata": {}
  },
  {
   "cell_type": "code",
   "execution_count": 57,
   "metadata": {},
   "outputs": [],
   "source": [
    "def golden_section_search(f, a, b, n):\n",
    "    golden_ratio = 1.61803\n",
    "    rho = golden_ratio - 1\n",
    "    d = rho*b + (1-rho)*a\n",
    "    yd = f(d)\n",
    "    for i in range(n-1):\n",
    "        c = rho*a + (1-rho)*b\n",
    "        yc = f(c)\n",
    "        if yc < yd:\n",
    "            b, d, yd = d, c, yc\n",
    "        else:\n",
    "            a, b = b,c\n",
    "    \n",
    "    return (a,b) if a<b else (b, a)"
   ]
  },
  {
   "source": [
    "## Algorithm 3.4"
   ],
   "cell_type": "markdown",
   "metadata": {}
  },
  {
   "cell_type": "code",
   "execution_count": 42,
   "metadata": {},
   "outputs": [],
   "source": [
    "def quadratic_fit_search(f, a, b, c, n):\n",
    "    ya, yb, yc = f(a), f(b), f(c)\n",
    "    for i in range(n-3):\n",
    "        x = 0.5*(ya*(b**2-c**2)+yb*(c**2-a**2)+yc*(a**2-b**2))/(ya*(b-c)+yb*(c-a)+yc*(a-b))\n",
    "        yx = f(x)\n",
    "        if x > b:\n",
    "            if yx > yb:\n",
    "                c, yc = x, yx\n",
    "            else:\n",
    "                a, ya, b, yb = b, yb, x, yx\n",
    "        elif x < b:\n",
    "            if yx > yb:\n",
    "                a, ya = x, yx\n",
    "            else:\n",
    "                c, yc, b, yb = b, yb, x, yx\n",
    "    \n",
    "    return (a, b, c)"
   ]
  },
  {
   "source": [
    "### Example"
   ],
   "cell_type": "markdown",
   "metadata": {}
  },
  {
   "cell_type": "code",
   "execution_count": 43,
   "metadata": {},
   "outputs": [
    {
     "output_type": "stream",
     "name": "stdout",
     "text": [
      "(1.3333333333333333, 2.519436058565487, 2.5194360660675903)\n"
     ]
    }
   ],
   "source": [
    "def func(x):\n",
    "    return 4 + x*np.cos(x+1)\n",
    "\n",
    "a = 0.0\n",
    "b = 2\n",
    "c = 3.5\n",
    "n = 20\n",
    "\n",
    "sol = quadratic_fit_search(func, a, b, c, n)\n",
    "print(sol)"
   ]
  },
  {
   "source": [
    "## Algorithm 3.5"
   ],
   "cell_type": "markdown",
   "metadata": {}
  },
  {
   "cell_type": "code",
   "execution_count": 26,
   "metadata": {},
   "outputs": [],
   "source": [
    "@dataclass\n",
    "class Pt:\n",
    "    x: float\n",
    "    y: float\n",
    "\n",
    "def _get_sp_intersection(A, B, l):\n",
    "    t = ((A.y - B.y) - l*(A.x - B.x)) / (2*l)\n",
    "    return Pt(A.x + t, A.y - t*l)\n",
    "\n",
    "def shubert_piyavskii(f, a, b, l, epsilon, delta=0.01):\n",
    "    m = (a+b)/2\n",
    "    A, M, B = Pt(a, f(a)), Pt(m, f(m)), Pt(b, f(b))\n",
    "    pts = [A, _get_sp_intersection(A, M, l),\n",
    "            M, _get_sp_intersection(M, B, l), B]\n",
    "    Delta = np.inf\n",
    "    counter = 0\n",
    "    while Delta > epsilon:\n",
    "        counter += 1\n",
    "        i = np.argmin([P.y for P in pts])\n",
    "        P = Pt(pts[i].x, f(pts[i].x))\n",
    "        Delta = P.y - pts[i].y\n",
    "\n",
    "        P_prev = _get_sp_intersection(pts[i-1], P, l)\n",
    "        P_next = _get_sp_intersection(P, pts[i+1], l)\n",
    "\n",
    "        del pts[i]\n",
    "        pts.insert(i, P_next)\n",
    "        pts.insert(i, P)\n",
    "        pts.insert(i, P_prev)\n",
    "\n",
    "    intervals = []\n",
    "    P_min = pts[2*(np.argmin([P.y for P in pts[::2]])) - 1]\n",
    "    y_min = P_min.y\n",
    "    for j in range(1,len(pts),2):\n",
    "        if pts[j].y < y_min:\n",
    "            dy = pts[i].y - pts[j].y\n",
    "            x_lo = max([a, pts[j].x - dy/l])\n",
    "            x_hi = min([b, pts[j].x + dy/l])\n",
    "            _empty = len(intervals) == 0\n",
    "            if (not _empty) and (intervals[-1][1] + delta >= x_lo):\n",
    "                intervals[-1] = (intervals[-1][0], x_hi)\n",
    "            else:\n",
    "                intervals.insert(0,(x_lo, x_hi))\n",
    "    \n",
    "    return (pts[i], intervals)"
   ]
  },
  {
   "source": [
    "### Example"
   ],
   "cell_type": "markdown",
   "metadata": {}
  },
  {
   "cell_type": "code",
   "execution_count": 39,
   "metadata": {
    "tags": []
   },
   "outputs": [
    {
     "output_type": "stream",
     "name": "stdout",
     "text": [
      "[(2.5131687262449933, 2.5287372947013598)]\n"
     ]
    }
   ],
   "source": [
    "def func(x):\n",
    "    return 4 + x*np.cos(x+1)\n",
    "\n",
    "a = 0.0\n",
    "b = 3.5\n",
    "l = 1.7\n",
    "epsilon = 0.00001\n",
    "\n",
    "sol = shubert_piyavskii(func, a, b, l, epsilon)\n",
    "print(sol[1])"
   ]
  },
  {
   "source": [
    "## Algorithm 3.6"
   ],
   "cell_type": "markdown",
   "metadata": {}
  },
  {
   "cell_type": "code",
   "execution_count": 77,
   "metadata": {},
   "outputs": [],
   "source": [
    "def bisection(f_deriv, a, b, epsilon):\n",
    "    if a > b:\n",
    "        a, b = b, a\n",
    "    \n",
    "    ya, yb = f_deriv(a), f_deriv(b)\n",
    "\n",
    "    if ya == 0:\n",
    "        b = a\n",
    "    if yb == 0:\n",
    "        a = b\n",
    "\n",
    "    while b - a > epsilon:\n",
    "        x = (a+b)/2\n",
    "        y = f_deriv(x)\n",
    "        if y == 0:\n",
    "            a, b = x, x\n",
    "        elif y*ya> 0:\n",
    "            a = x\n",
    "        else:\n",
    "            b = x\n",
    "    \n",
    "    return (a,b)"
   ]
  },
  {
   "cell_type": "code",
   "execution_count": 81,
   "metadata": {},
   "outputs": [
    {
     "output_type": "stream",
     "name": "stdout",
     "text": [
      "(2.5194358825683594, 2.519441604614258)\n"
     ]
    }
   ],
   "source": [
    "\n",
    "def func_deriv(x):\n",
    "    return np.cos(x+1)-x*np.sin(x+1)\n",
    "\n",
    "a = 0.5\n",
    "b = 3.5\n",
    "epsilon = 0.00001\n",
    "\n",
    "sol = bisection(func_deriv, a, b, epsilon)\n",
    "print(sol)"
   ]
  },
  {
   "source": [
    "## Algorithm 3.7"
   ],
   "cell_type": "markdown",
   "metadata": {}
  },
  {
   "cell_type": "code",
   "execution_count": 92,
   "metadata": {},
   "outputs": [],
   "source": [
    "def bracket_sign_change(f_deriv, a, b, k=2):\n",
    "    if a > b:\n",
    "        a, b = b, a\n",
    "\n",
    "    center, half_width = (b+a)/2, (b-a)/2\n",
    "    while f_deriv(a)*f_deriv(b) > 0:\n",
    "        half_width *= k\n",
    "        a = center - half_width\n",
    "        b = center + half_width\n",
    "\n",
    "    return (a, b)"
   ]
  }
 ]
}