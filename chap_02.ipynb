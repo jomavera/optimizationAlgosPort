{
 "metadata": {
  "language_info": {
   "codemirror_mode": {
    "name": "ipython",
    "version": 3
   },
   "file_extension": ".py",
   "mimetype": "text/x-python",
   "name": "python",
   "nbconvert_exporter": "python",
   "pygments_lexer": "ipython3",
   "version": "3.8.8"
  },
  "orig_nbformat": 2,
  "kernelspec": {
   "name": "python388jvsc74a57bd0b274a08bf4698fc44e719d0f2c5650b93ce71aff188bd24adbef14bf465b0845",
   "display_name": "Python 3.8.8 64-bit ('gurobi_env': conda)"
  },
  "metadata": {
   "interpreter": {
    "hash": "b274a08bf4698fc44e719d0f2c5650b93ce71aff188bd24adbef14bf465b0845"
   }
  }
 },
 "nbformat": 4,
 "nbformat_minor": 2,
 "cells": [
  {
   "source": [
    "# Chapter 2: Derivatives and Gradients"
   ],
   "cell_type": "markdown",
   "metadata": {}
  },
  {
   "cell_type": "code",
   "execution_count": null,
   "metadata": {},
   "outputs": [],
   "source": [
    "import numpy as np\n",
    "import cmath"
   ]
  },
  {
   "source": [
    "## Algorithm 2.1"
   ],
   "cell_type": "markdown",
   "metadata": {}
  },
  {
   "cell_type": "code",
   "execution_count": null,
   "metadata": {},
   "outputs": [],
   "source": [
    "def diff_forward(f, x, h=np.sqrt(np.finfo(float).tiny)):\n",
    "    return (f(x+h)-f(x))/h\n",
    "\n",
    "def diff_central(f, x, h=np.cbrt(np.finfo(float).tiny))):\n",
    "    return (f(x+h/2)-f(x-h/2))/h\n",
    "\n",
    "def diff_backward(f, x, h=np.sqrt(np.finfo(float).tiny))):\n",
    "    return (f(x)-f(x-h))/h\n"
   ]
  },
  {
   "source": [
    "## Algorithm 2.2"
   ],
   "cell_type": "markdown",
   "metadata": {}
  },
  {
   "cell_type": "code",
   "execution_count": null,
   "metadata": {},
   "outputs": [],
   "source": [
    "def diff_complex(f, x , h=1e-20):\n",
    "    img_num = complex(x,h)\n",
    "    return f(img_num).imag/h "
   ]
  }
 ]
}