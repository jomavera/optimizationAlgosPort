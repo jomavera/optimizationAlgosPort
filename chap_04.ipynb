{
 "metadata": {
  "language_info": {
   "codemirror_mode": {
    "name": "ipython",
    "version": 3
   },
   "file_extension": ".py",
   "mimetype": "text/x-python",
   "name": "python",
   "nbconvert_exporter": "python",
   "pygments_lexer": "ipython3",
   "version": "3.6.10"
  },
  "orig_nbformat": 2,
  "kernelspec": {
   "name": "python3610jvsc74a57bd0eead41d879fbb85ed561ba424c55131c0a0a089a2bec069d468f1779becb9c35",
   "display_name": "Python 3.6.10 64-bit ('base': conda)"
  }
 },
 "nbformat": 4,
 "nbformat_minor": 2,
 "cells": [
  {
   "source": [
    "# Chapter 4: Local Descent"
   ],
   "cell_type": "markdown",
   "metadata": {}
  },
  {
   "source": [
    "import numpy as np\n",
    "import jax"
   ],
   "cell_type": "code",
   "metadata": {},
   "execution_count": 1,
   "outputs": [
    {
     "output_type": "error",
     "ename": "ModuleNotFoundError",
     "evalue": "No module named 'jax'",
     "traceback": [
      "\u001b[0;31m---------------------------------------------------------------------------\u001b[0m",
      "\u001b[0;31mModuleNotFoundError\u001b[0m                       Traceback (most recent call last)",
      "\u001b[0;32m<ipython-input-1-460f463a2884>\u001b[0m in \u001b[0;36m<module>\u001b[0;34m()\u001b[0m\n\u001b[1;32m      1\u001b[0m \u001b[0;32mimport\u001b[0m \u001b[0mnumpy\u001b[0m \u001b[0;32mas\u001b[0m \u001b[0mnp\u001b[0m\u001b[0;34m\u001b[0m\u001b[0;34m\u001b[0m\u001b[0m\n\u001b[0;32m----> 2\u001b[0;31m \u001b[0;32mimport\u001b[0m \u001b[0mjax\u001b[0m\u001b[0;34m\u001b[0m\u001b[0;34m\u001b[0m\u001b[0m\n\u001b[0m",
      "\u001b[0;31mModuleNotFoundError\u001b[0m: No module named 'jax'"
     ]
    }
   ]
  },
  {
   "source": [
    "## Algorithm 4.1"
   ],
   "cell_type": "markdown",
   "metadata": {}
  },
  {
   "cell_type": "code",
   "execution_count": 25,
   "metadata": {},
   "outputs": [],
   "source": [
    "def bracket_minimum(f, x=0, s=1e-2, k=2.0):\n",
    "    a, ya = x, f(x)\n",
    "    b, yb = a + s, f(a+s)\n",
    "    \n",
    "    if yb > ya:\n",
    "        a, b = b, a\n",
    "        ya, yb = yb, ya\n",
    "        s = -s\n",
    "    \n",
    "    while True:\n",
    "        c, yc = b + s, f(b+s)\n",
    "        if yc > yb:\n",
    "            return (a,c) if a < c else (c, a)\n",
    "        a, ya, b, yb = b, yb, c, yc\n",
    "\n",
    "def minimize(f_deriv, a, b, epsilon):\n",
    "    '''\n",
    "    Bisection algorithm for univariate optmization\n",
    "    '''\n",
    "    if a > b:\n",
    "        a, b = b, a\n",
    "    \n",
    "    ya, yb = f_deriv(a), f_deriv(b)\n",
    "\n",
    "    if ya == 0:\n",
    "        b = a\n",
    "    if yb == 0:\n",
    "        a = b\n",
    "\n",
    "    while b - a > epsilon:\n",
    "        x = (a+b)/2\n",
    "        y = f_deriv(x)\n",
    "        if y == 0:\n",
    "            a, b = x, x\n",
    "        elif y*ya> 0:\n",
    "            a = x\n",
    "        else:\n",
    "            b = x\n",
    "    \n",
    "    return (a+b)/2\n",
    "\n",
    "def line_search(f, x, d):\n",
    "    '''\n",
    "    One step of Exact Line Search\n",
    "    '''\n",
    "    objective = lambda alpha: f(x+alpha*d)\n",
    "\n",
    "    a, b = bracket_minimum(objective)\n",
    "\n",
    "    alpha = minimize(objective, a, b, 0.0001)\n",
    "\n",
    "    return x + alpha*d"
   ]
  },
  {
   "source": [
    "### Example"
   ],
   "cell_type": "markdown",
   "metadata": {}
  },
  {
   "cell_type": "code",
   "execution_count": 26,
   "metadata": {},
   "outputs": [
    {
     "output_type": "stream",
     "name": "stdout",
     "text": [
      "[ 1.         -1.13996094 -0.13996094]\n"
     ]
    }
   ],
   "source": [
    "def func(x):\n",
    "    return np.sin(x[0]*x[1])+np.exp(x[1]+x[2])-x[2]\n",
    "\n",
    "x = np.array([1.0, 2.0, 3.0])\n",
    "d = np.array([0.0, -1.0, -1.0])\n",
    "\n",
    "sol = line_search(func, x, d)\n",
    "print(sol)"
   ]
  },
  {
   "source": [
    "## Algorithm 4.2"
   ],
   "cell_type": "markdown",
   "metadata": {}
  },
  {
   "cell_type": "code",
   "execution_count": null,
   "metadata": {},
   "outputs": [],
   "source": [
    "def backtracking_line_search(f, gradient, x, d, alpha, p=0.5, beta=1e-4):\n",
    "    y, g = f(x), gradient\n",
    "    while f(x+alpha*d) > y + beta*alpha*(np.dot(g,d)):\n",
    "        alpha *= p\n",
    "    return alpha"
   ]
  },
  {
   "source": [
    "### Example"
   ],
   "cell_type": "markdown",
   "metadata": {}
  },
  {
   "cell_type": "code",
   "execution_count": null,
   "metadata": {},
   "outputs": [],
   "source": [
    "def aproximate_line_search(f, x, alpha):\n",
    "    '''\n",
    "    One Step of Aproximate Line Search with Backtracking\n",
    "    '''\n",
    "    gradient = jax.grad(f)\n",
    "    d = -gradient(x)\n",
    "\n",
    "    alpha = backtracking_line_search(f, gradient, x, d, alpha)\n",
    "\n",
    "    return x + alpha*d\n",
    "\n",
    "def func(x):\n",
    "    return jax.numpy.sin(x[0]*x[1])+jax.numpy.exp(x[1]+x[2])-x[2]\n",
    "\n",
    "x = np.array([1.0, 2.0, 3.0])\n",
    "alpha = 1.0\n",
    "sol = line_search(func, x, alpha)\n",
    "print(sol)"
   ]
  },
  {
   "source": [
    "## Algorithm 4.3"
   ],
   "cell_type": "markdown",
   "metadata": {}
  },
  {
   "cell_type": "code",
   "execution_count": null,
   "metadata": {},
   "outputs": [],
   "source": [
    "def strong_backtracking(f, gradient, x, d, alpha=1, beta=1e-4, sigma=0.1):\n",
    "    y0, g0, y_prev, alpha_prev = f(x), np.dot(gradient(x),d), np.nan, 0\n",
    "    alpha_lo, alpha_hi = np.nan, np.nan\n",
    "\n",
    "    while True:\n",
    "        y = f(x+alpha*d)\n",
    "        if y > y0+beta*alpha*g0 or (not np.isnan(y_prev) and y >= y_prev):\n",
    "            alpha_lo, alpha_hi = alpha_prev, alpha\n",
    "            break\n",
    "        g = np.dot(gradient(x+alpha*d),d)\n",
    "\n",
    "        if np.abs(g) <= -sigma*g0:\n",
    "            return alpha\n",
    "        elif g >= 0:\n",
    "            alpha_lo, alpha_hi = alpha, alpha_prev\n",
    "            break\n",
    "        y_prev, alpha_prev, alpha = y, alpha, 2*alpha\n",
    "\n",
    "    ylo = f(x+alpha_lo*d)\n",
    "\n",
    "    while True:\n",
    "        alpha = (alpha_lo + alpha_hi)/2\n",
    "        y = f(x+alpha*d)\n",
    "        if y > y0 + beta*alpha*g0 or y >= ylo:\n",
    "            alpha_hi = alpha\n",
    "        else:\n",
    "            g = np.dot(gradient(x+alpha*d),d)\n",
    "            if np.abs(g) <= -sigma*g0:\n",
    "                return alpha\n",
    "            elif g*(alpha_hi - alpha_lo) >= 0:\n",
    "                alpha_hi = alpha_lo\n",
    "\n",
    "            alpha_lo = alpha"
   ]
  },
  {
   "cell_type": "code",
   "execution_count": null,
   "metadata": {},
   "outputs": [],
   "source": [
    "def aproximate_line_search(f, x, d, alpha):\n",
    "    '''\n",
    "    One Step of Aproximate Line Search with Strong Backtracking\n",
    "    '''\n",
    "    gradient = jax.grad(f)\n",
    "    d = -gradient(x)\n",
    "\n",
    "    alpha = strong_backtracking(f, gradient, x, d, alpha)\n",
    "\n",
    "    return x + alpha*d\n",
    "\n",
    "def func(x):\n",
    "    return jax.numpy.sin(x[0]*x[1])+jax.numpy.exp(x[1]+x[2])-x[2]\n",
    "\n",
    "x = np.array([1.0, 2.0, 3.0])\n",
    "alpha = 1.0\n",
    "sol = line_search(func, x, d, alpha)\n",
    "print(sol)"
   ]
  }
 ]
}