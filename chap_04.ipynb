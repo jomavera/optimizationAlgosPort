{
 "metadata": {
  "language_info": {
   "codemirror_mode": {
    "name": "ipython",
    "version": 3
   },
   "file_extension": ".py",
   "mimetype": "text/x-python",
   "name": "python",
   "nbconvert_exporter": "python",
   "pygments_lexer": "ipython3",
   "version": "3.8.10"
  },
  "orig_nbformat": 2,
  "kernelspec": {
   "name": "python3810jvsc74a57bd0ba3b919a19380c03e01f18adb9941583c39169f4907f8bc2002c90bf52d7e13c",
   "display_name": "Python 3.8.10 64-bit ('optAlgos': conda)"
  }
 },
 "nbformat": 4,
 "nbformat_minor": 2,
 "cells": [
  {
   "source": [
    "# Chapter 4: Local Descent"
   ],
   "cell_type": "markdown",
   "metadata": {}
  },
  {
   "source": [
    "import numpy as np\n",
    "import jax\n",
    "import cvxpy as cp"
   ],
   "cell_type": "code",
   "metadata": {},
   "execution_count": 1,
   "outputs": []
  },
  {
   "source": [
    "## Algorithm 4.1"
   ],
   "cell_type": "markdown",
   "metadata": {}
  },
  {
   "cell_type": "code",
   "execution_count": 2,
   "metadata": {},
   "outputs": [],
   "source": [
    "def bracket_minimum(f, x=0, s=1e-2, k=2.0):\n",
    "    a, ya = x, f(x)\n",
    "    b, yb = a + s, f(a+s)\n",
    "    \n",
    "    if yb > ya:\n",
    "        a, b = b, a\n",
    "        ya, yb = yb, ya\n",
    "        s = -s\n",
    "    \n",
    "    while True:\n",
    "        c, yc = b + s, f(b+s)\n",
    "        if yc > yb:\n",
    "            return (a,c) if a < c else (c, a)\n",
    "        a, ya, b, yb = b, yb, c, yc\n",
    "\n",
    "def minimize(f_deriv, a, b, epsilon):\n",
    "    '''\n",
    "    Bisection algorithm for univariate optmization\n",
    "    '''\n",
    "    if a > b:\n",
    "        a, b = b, a\n",
    "    \n",
    "    ya, yb = f_deriv(a), f_deriv(b)\n",
    "\n",
    "    if ya == 0:\n",
    "        b = a\n",
    "    if yb == 0:\n",
    "        a = b\n",
    "\n",
    "    while b - a > epsilon:\n",
    "        x = (a+b)/2\n",
    "        y = f_deriv(x)\n",
    "        if y == 0:\n",
    "            a, b = x, x\n",
    "        elif y*ya> 0:\n",
    "            a = x\n",
    "        else:\n",
    "            b = x\n",
    "    \n",
    "    return (a+b)/2\n",
    "\n",
    "def line_search(f, x, d):\n",
    "    '''\n",
    "    One step of Exact Line Search\n",
    "    '''\n",
    "    objective = lambda alpha: f(x+alpha*d)\n",
    "\n",
    "    a, b = bracket_minimum(objective)\n",
    "\n",
    "    alpha = minimize(objective, a, b, 0.0001)\n",
    "\n",
    "    return x + alpha*d"
   ]
  },
  {
   "source": [
    "### Example"
   ],
   "cell_type": "markdown",
   "metadata": {}
  },
  {
   "cell_type": "code",
   "execution_count": 3,
   "metadata": {},
   "outputs": [
    {
     "output_type": "stream",
     "name": "stdout",
     "text": [
      "[ 1.         -1.13996094 -0.13996094]\n"
     ]
    }
   ],
   "source": [
    "def func(x):\n",
    "    return np.sin(x[0]*x[1])+np.exp(x[1]+x[2])-x[2]\n",
    "\n",
    "x = np.array([1.0, 2.0, 3.0])\n",
    "d = np.array([0.0, -1.0, -1.0])\n",
    "\n",
    "sol = line_search(func, x, d)\n",
    "print(sol)"
   ]
  },
  {
   "source": [
    "## Algorithm 4.2"
   ],
   "cell_type": "markdown",
   "metadata": {}
  },
  {
   "cell_type": "code",
   "execution_count": 4,
   "metadata": {},
   "outputs": [],
   "source": [
    "def backtracking_line_search(f, gradient, x, d, alpha, p=0.5, beta=1e-4):\n",
    "    y, g = f(x), gradient\n",
    "    while f(x+alpha*d) > y + beta*alpha*(np.dot(g,d)):\n",
    "        alpha *= p\n",
    "    return alpha"
   ]
  },
  {
   "source": [
    "### Example"
   ],
   "cell_type": "markdown",
   "metadata": {}
  },
  {
   "cell_type": "code",
   "execution_count": 5,
   "metadata": {},
   "outputs": [
    {
     "output_type": "stream",
     "name": "stderr",
     "text": [
      "WARNING:absl:No GPU/TPU found, falling back to CPU. (Set TF_CPP_MIN_LOG_LEVEL=0 and rerun for more info.)\n",
      "[-1.37003906 -0.37003906  0.62996094]\n"
     ]
    }
   ],
   "source": [
    "def aproximate_line_search(f, x, alpha):\n",
    "    '''\n",
    "    One Step of Aproximate Line Search with Backtracking\n",
    "    '''\n",
    "    gradient = jax.grad(f)\n",
    "    d = -gradient(x)\n",
    "\n",
    "    alpha = backtracking_line_search(f, gradient, x, d, alpha)\n",
    "\n",
    "    return x + alpha*d\n",
    "\n",
    "def func(x):\n",
    "    return jax.numpy.sin(x[0]*x[1])+jax.numpy.exp(x[1]+x[2])-x[2]\n",
    "\n",
    "x = np.array([1.0, 2.0, 3.0])\n",
    "alpha = 1.0\n",
    "sol = line_search(func, x, alpha)\n",
    "print(sol)"
   ]
  },
  {
   "source": [
    "## Algorithm 4.3"
   ],
   "cell_type": "markdown",
   "metadata": {}
  },
  {
   "cell_type": "code",
   "execution_count": 6,
   "metadata": {},
   "outputs": [],
   "source": [
    "def strong_backtracking(f, gradient, x, d, alpha=1, beta=1e-4, sigma=0.1):\n",
    "    y0, g0, y_prev, alpha_prev = f(x), np.dot(gradient(x),d), np.nan, 0\n",
    "    alpha_lo, alpha_hi = np.nan, np.nan\n",
    "\n",
    "    while True:\n",
    "        y = f(x+alpha*d)\n",
    "        if y > y0+beta*alpha*g0 or (not np.isnan(y_prev) and y >= y_prev):\n",
    "            alpha_lo, alpha_hi = alpha_prev, alpha\n",
    "            break\n",
    "        g = np.dot(gradient(x+alpha*d),d)\n",
    "\n",
    "        if np.abs(g) <= -sigma*g0:\n",
    "            return alpha\n",
    "        elif g >= 0:\n",
    "            alpha_lo, alpha_hi = alpha, alpha_prev\n",
    "            break\n",
    "        y_prev, alpha_prev, alpha = y, alpha, 2*alpha\n",
    "\n",
    "    ylo = f(x+alpha_lo*d)\n",
    "\n",
    "    while True:\n",
    "        alpha = (alpha_lo + alpha_hi)/2\n",
    "        y = f(x+alpha*d)\n",
    "        if y > y0 + beta*alpha*g0 or y >= ylo:\n",
    "            alpha_hi = alpha\n",
    "        else:\n",
    "            g = np.dot(gradient(x+alpha*d),d)\n",
    "            if np.abs(g) <= -sigma*g0:\n",
    "                return alpha\n",
    "            elif g*(alpha_hi - alpha_lo) >= 0:\n",
    "                alpha_hi = alpha_lo\n",
    "\n",
    "            alpha_lo = alpha"
   ]
  },
  {
   "source": [
    "### Example"
   ],
   "cell_type": "markdown",
   "metadata": {}
  },
  {
   "cell_type": "code",
   "execution_count": 7,
   "metadata": {},
   "outputs": [
    {
     "output_type": "stream",
     "name": "stdout",
     "text": [
      "[-1.37003906 -0.37003906  0.62996094]\n"
     ]
    }
   ],
   "source": [
    "def aproximate_line_search(f, x, alpha):\n",
    "    '''\n",
    "    One Step of Aproximate Line Search with Strong Backtracking\n",
    "    '''\n",
    "    gradient = jax.grad(f)\n",
    "    d = -gradient(x)\n",
    "\n",
    "    alpha = strong_backtracking(f, gradient, x, d, alpha)\n",
    "\n",
    "    return x + alpha*d\n",
    "\n",
    "def func(x):\n",
    "    return jax.numpy.sin(x[0]*x[1])+jax.numpy.exp(x[1]+x[2])-x[2]\n",
    "\n",
    "x = np.array([1.0, 2.0, 3.0])\n",
    "alpha = 1.0\n",
    "sol = line_search(func, x, alpha)\n",
    "print(sol)"
   ]
  },
  {
   "source": [
    "## Algorithm 4.4"
   ],
   "cell_type": "markdown",
   "metadata": {}
  },
  {
   "cell_type": "code",
   "execution_count": 11,
   "metadata": {},
   "outputs": [],
   "source": [
    "def trust_region_descent(f, gradient, H, x, k_max, eta_1 = 0.25, eta_2 = 0.5, gamma_1 = 0.5, gamma_2 = 2.0, delta= 1.0):\n",
    "\n",
    "    y = f(x)\n",
    "\n",
    "    for k in range(k_max):\n",
    "        x_prime, y_prime = solve_trust_region_subproblem(gradient, H, x, delta)\n",
    "        r = (y- f(x_prime))/(y - y_prime)\n",
    "        if r < eta_1:\n",
    "            delta *= gamma_1\n",
    "        else:\n",
    "            x, y = x_prime, y_prime\n",
    "            if r > eta_2:\n",
    "                delta *= gamma_2\n",
    "\n",
    "    return x\n",
    "\n",
    "def solve_trust_region_subproblem(gradient, H, x0, delta):\n",
    "\n",
    "    n            = len(x0)\n",
    "\n",
    "    #Variables to optimize\n",
    "    x_sub        = cp.Variable(n)\n",
    "    \n",
    "    #Objective functon is second order Taylor approximation\n",
    "    objetive_function = cp.Minimize( cp.matmul(np.array(gradient(x0)),(x_sub-x0))+\\\n",
    "                                cp.quad_form(x_sub- x0, np.array(H(x0)))/2.0)\n",
    "\n",
    "    #Constraint such that solutions of subproblem not far from actual solutuon of\n",
    "    # master problem\n",
    "    constraints = [cp.pnorm(x_sub-x0,p=1) <= delta]\n",
    "\n",
    "    prob   = cp.Problem(objetive_function, constraints)\n",
    "\n",
    "    result = prob.solve()\n",
    "\n",
    "    return x_sub.value, prob.value"
   ]
  },
  {
   "source": [
    "### Example"
   ],
   "cell_type": "markdown",
   "metadata": {}
  },
  {
   "cell_type": "code",
   "execution_count": 12,
   "metadata": {},
   "outputs": [
    {
     "output_type": "stream",
     "name": "stdout",
     "text": [
      "[0.01156102 0.02338696 0.42379419]\n"
     ]
    }
   ],
   "source": [
    "def fun(x):\n",
    "    return 100*x[0]**4 + 0.01*x[1]**4\n",
    "    \n",
    "gradient = jax.grad(fun)\n",
    "H = jax.hessian(fun)\n",
    "\n",
    "x_0     = [1.0,1.0]\n",
    "eta_1   = 0.25\n",
    "eta_2   = 0.5\n",
    "gamma_1 = 0.5\n",
    "gamma_2 = 2.0\n",
    "delta   = 1.0\n",
    "k_max = 11\n",
    "\n",
    "sol = trust_region_descent(fun, gradient, H, x, k_max, eta_1, eta_2, gamma_1, gamma_2, delta)\n",
    "print(sol)"
   ]
  },
  {
   "cell_type": "code",
   "execution_count": null,
   "metadata": {},
   "outputs": [],
   "source": []
  }
 ]
}