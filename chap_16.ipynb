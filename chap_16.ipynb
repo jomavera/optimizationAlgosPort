{
 "cells": [
  {
   "cell_type": "markdown",
   "metadata": {},
   "source": [
    "# Chapter 16: Surrogate Optimization"
   ]
  },
  {
   "cell_type": "code",
   "execution_count": 1,
   "metadata": {},
   "outputs": [],
   "source": [
    "import numpy as np\n",
    "from scipy import stats"
   ]
  },
  {
   "cell_type": "markdown",
   "metadata": {},
   "source": [
    "## Algorithm 16.1"
   ]
  },
  {
   "cell_type": "code",
   "execution_count": 4,
   "metadata": {},
   "outputs": [],
   "source": [
    "prob_of_improvement = lambda y_min, mu, sigma: stats.norm(mu,sigma).cdf(y_min)"
   ]
  },
  {
   "cell_type": "markdown",
   "metadata": {},
   "source": [
    "## Algorithm 16.2"
   ]
  },
  {
   "cell_type": "code",
   "execution_count": 7,
   "metadata": {},
   "outputs": [],
   "source": [
    "def expected_improvement(y_min, mu, sigma):\n",
    "    p_imp = prob_of_improvement(y_min, mu, sigma)\n",
    "    p_ymin = stats.norm(mu, sigma).pdf(y_min)\n",
    "    return (y_min - mu)*p_imp + sigma*p_ymin"
   ]
  },
  {
   "cell_type": "markdown",
   "metadata": {},
   "source": [
    "## Algorithm 16.3"
   ]
  },
  {
   "cell_type": "code",
   "execution_count": null,
   "metadata": {},
   "outputs": [],
   "source": [
    "def safe_opt(GP, X, i, f, y_max, beta=3.0, k_max=10):\n",
    "    GP.X, GP.y = X[i], f(X[i])\n",
    "    m = len(X)\n",
    "    u, l = [np.infty for i in range(m)], [-np.infty for i in range(m)]\n",
    "    S, M, E = [False for i in range(m)], [False for i in range(m)], [False for i in range(m)]\n",
    "\n",
    "    for k in range(k_max):\n",
    "        u, l = update_confidence_intervals(GP, X, u, l ,beta)\n",
    "        S, M, E = compute_sets(GP, S, M, E, X, u, l, y_max, beta)\n",
    "        i = get_new_query_point(M, E, u, l)\n",
    "        if i ==0:\n",
    "            break\n",
    "        GP.X, GP.y = X[i], f(X[i])\n",
    "\n",
    "    S = np.less_equal(u, y_max)\n",
    "    if np.any(S):\n",
    "        u_best, i_best = np.min(u[S])\n",
    "        predicate = np.equal(i_best, np.cumsum(S))\n",
    "        i_best = next(i for i in range(len(i_best)) if predicate[i])\n",
    "        return u_best, i_best\n",
    "    else:\n",
    "        return np.nan, \n"
   ]
  },
  {
   "cell_type": "markdown",
   "metadata": {},
   "source": [
    "## Algorithm 16.4"
   ]
  },
  {
   "cell_type": "code",
   "execution_count": null,
   "metadata": {},
   "outputs": [],
   "source": [
    "def update_confidence_intervals(GP, X, u, l, beta):\n",
    "    mu_p, vu_p = predict(GP, X)\n",
    "    u = mu_p + np.sqrt(beta*vu_p)\n",
    "    l = mu_p - np.sqrt(beta*vu_p)\n",
    "    return u, l"
   ]
  },
  {
   "cell_type": "markdown",
   "metadata": {},
   "source": [
    "## Algorithm 16.5"
   ]
  },
  {
   "cell_type": "code",
   "execution_count": null,
   "metadata": {},
   "outputs": [],
   "source": [
    "def compute_sets(GP, S, M, E, X, u, l , y_max, beta):\n",
    "    M = [False for i in range(len(M))]\n",
    "    E = [False for i in range(len(E))]\n",
    "\n",
    "    S = u <= y_max\n",
    "\n",
    "    if np.any(S):\n",
    "        M[S] = l[S] < np.minimum(u[S])\n",
    "        w_max = np.maximum(u[M]-l[M])\n",
    "        E = S and not M\n",
    "        if np.any(E):\n",
    "            E[E] = np.maximum(u[E] - l[E]) > w_max\n",
    "            for i ,e in enumerate(E):\n",
    "                if e and u[i] - l[i] > w_max:\n",
    "                    GP.X, GP.y = X[i], f(X[i])\n",
    "                    mu_p, vu_p = predict(GP, X)\n",
    "                    E[i] = np.any(mu_p + np.sqrt(beta*vu_p)>= y_max)\n",
    "                    if E[i]:\n",
    "                        w_max = u[i] - l[i]\n",
    "\n",
    "        return S, M, E\n"
   ]
  }
 ],
 "metadata": {
  "interpreter": {
   "hash": "268b319f7084a2dea34336c52b292ca5e2c28fc4b991a4e2b0a0493a5f1c3810"
  },
  "kernelspec": {
   "display_name": "Python 3.8.5 64-bit ('base': conda)",
   "name": "python3"
  },
  "language_info": {
   "codemirror_mode": {
    "name": "ipython",
    "version": 3
   },
   "file_extension": ".py",
   "mimetype": "text/x-python",
   "name": "python",
   "nbconvert_exporter": "python",
   "pygments_lexer": "ipython3",
   "version": "3.8.10"
  },
  "orig_nbformat": 4
 },
 "nbformat": 4,
 "nbformat_minor": 2
}
