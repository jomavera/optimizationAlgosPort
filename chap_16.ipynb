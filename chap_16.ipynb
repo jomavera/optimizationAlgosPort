{
 "cells": [
  {
   "cell_type": "markdown",
   "metadata": {},
   "source": [
    "# Chapter 16: Surrogate Optimization"
   ]
  },
  {
   "cell_type": "code",
   "execution_count": 3,
   "metadata": {},
   "outputs": [],
   "source": [
    "import numpy as np\n",
    "from scipy import stats"
   ]
  },
  {
   "cell_type": "markdown",
   "metadata": {},
   "source": [
    "## Algorithm 16.1"
   ]
  },
  {
   "cell_type": "code",
   "execution_count": 4,
   "metadata": {},
   "outputs": [],
   "source": [
    "prob_of_improvement = lambda y_min, mu, sigma: stats.norm(mu,sigma).cdf(y_min)"
   ]
  },
  {
   "cell_type": "markdown",
   "metadata": {},
   "source": [
    "## Algorithm 16.2"
   ]
  },
  {
   "cell_type": "code",
   "execution_count": 7,
   "metadata": {},
   "outputs": [],
   "source": [
    "def expected_improvement(y_min, mu, sigma):\n",
    "    p_imp = prob_of_improvement(y_min, mu, sigma)\n",
    "    p_ymin = stats.norm(mu, sigma).pdf(y_min)\n",
    "    return (y_min - mu)*p_imp + sigma*p_ymin"
   ]
  }
 ],
 "metadata": {
  "interpreter": {
   "hash": "268b319f7084a2dea34336c52b292ca5e2c28fc4b991a4e2b0a0493a5f1c3810"
  },
  "kernelspec": {
   "display_name": "Python 3.8.5 64-bit ('base': conda)",
   "name": "python3"
  },
  "language_info": {
   "codemirror_mode": {
    "name": "ipython",
    "version": 3
   },
   "file_extension": ".py",
   "mimetype": "text/x-python",
   "name": "python",
   "nbconvert_exporter": "python",
   "pygments_lexer": "ipython3",
   "version": "3.8.10"
  },
  "orig_nbformat": 4
 },
 "nbformat": 4,
 "nbformat_minor": 2
}
