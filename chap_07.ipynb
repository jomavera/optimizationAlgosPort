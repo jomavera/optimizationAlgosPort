{
 "metadata": {
  "language_info": {
   "codemirror_mode": {
    "name": "ipython",
    "version": 3
   },
   "file_extension": ".py",
   "mimetype": "text/x-python",
   "name": "python",
   "nbconvert_exporter": "python",
   "pygments_lexer": "ipython3",
   "version": "3.8.10"
  },
  "orig_nbformat": 2,
  "kernelspec": {
   "name": "python3",
   "display_name": "Python 3.8.10 64-bit ('optAlgos': conda)"
  },
  "interpreter": {
   "hash": "ba3b919a19380c03e01f18adb9941583c39169f4907f8bc2002c90bf52d7e13c"
  }
 },
 "nbformat": 4,
 "nbformat_minor": 2,
 "cells": [
  {
   "source": [
    "# Chapter 7: Direct Methods"
   ],
   "cell_type": "markdown",
   "metadata": {}
  },
  {
   "cell_type": "code",
   "execution_count": 1,
   "metadata": {},
   "outputs": [],
   "source": [
    "import numpy as np\n",
    "from copy import copy\n",
    "import jax"
   ]
  },
  {
   "source": [
    "## Algorithm 7.1"
   ],
   "cell_type": "markdown",
   "metadata": {}
  },
  {
   "cell_type": "code",
   "execution_count": 5,
   "metadata": {},
   "outputs": [],
   "source": [
    "def basis(i,n):\n",
    "    return [1.0 if k == i else 0.0 for k in range(n)]"
   ]
  },
  {
   "source": [
    "## Algorithm 7.2"
   ],
   "cell_type": "markdown",
   "metadata": {}
  },
  {
   "cell_type": "code",
   "execution_count": 2,
   "metadata": {},
   "outputs": [],
   "source": [
    "def cyclic_coordinate_descent(f, x, epsilon):\n",
    "    delta, n = np.infty, x.shape[0]\n",
    "    while np.abs(delta) > epsilon:\n",
    "        x_prime = copy(x)\n",
    "        for i in range(n):\n",
    "            d = basis(i,n)\n",
    "            x = line_search(f,x,d)\n",
    "        delta = np.linalg.norm(x-x_prime)\n",
    "    \n",
    "    return x"
   ]
  },
  {
   "source": [
    "### Example"
   ],
   "cell_type": "markdown",
   "metadata": {}
  },
  {
   "cell_type": "code",
   "execution_count": 25,
   "metadata": {},
   "outputs": [
    {
     "output_type": "stream",
     "name": "stdout",
     "text": [
      "[3.96834752 3.9401    ]\n"
     ]
    }
   ],
   "source": [
    "def line_search(f, x, d):\n",
    "    '''\n",
    "    Gradient descent with armijo condition\n",
    "    '''\n",
    "    alpha = 1.0\n",
    "    tau = 0.7\n",
    "    c = 0.1\n",
    "    gradient = jax.grad(f)\n",
    "\n",
    "    while f(x  + alpha*np.array(d)) > f(x) + c*alpha*np.matmul( np.array(gradient(x)).reshape(-1,1).T , np.array(d).reshape(-1,1) )[0,0]:\n",
    "        alpha = tau * alpha\n",
    "    \n",
    "    return x  + alpha*np.array(d) \n",
    "\n",
    "func = lambda x: (1-x[0])**2 + 5*(4*x[1] - x[0]**2)**2\n",
    "\n",
    "x = np.array([1.0, 3.0])\n",
    "epsilon = 0.01\n",
    "x_sol = cyclic_coordinate_descent(func, x, epsilon)\n",
    "print(x_sol)"
   ]
  },
  {
   "source": [
    "## Algorithm 7.3"
   ],
   "cell_type": "markdown",
   "metadata": {}
  },
  {
   "cell_type": "code",
   "execution_count": 27,
   "metadata": {},
   "outputs": [],
   "source": [
    "def cyclic_coordinate_descent_with_acceleration_step(f, x, epsilon):\n",
    "    delta, n = np.infty, x.shape[0]\n",
    "    while np.abs(delta) > epsilon:\n",
    "        x_prime = copy(x)\n",
    "        for i in range(n):\n",
    "            d = basis(i,n)\n",
    "            x = line_search(f,x,d)\n",
    "        x = line_search(f, x, x-x_prime)\n",
    "        delta = np.linalg.norm(x-x_prime)\n",
    "    \n",
    "    return x"
   ]
  },
  {
   "source": [
    "## Algorithm 7.4"
   ],
   "cell_type": "markdown",
   "metadata": {}
  },
  {
   "cell_type": "code",
   "execution_count": 32,
   "metadata": {},
   "outputs": [],
   "source": [
    "def powell(f, x, epsilon):\n",
    "    n = x.shape[0]\n",
    "    U = [basis(i,n) for i in range(n)]\n",
    "    delta = np.infty\n",
    "    while delta > epsilon:\n",
    "        x_prime = copy(x)\n",
    "        for i in range(n):\n",
    "            d = U[i]\n",
    "            x_prime = line_search(f, x_prime, d)\n",
    "        \n",
    "        for i in range(n-1):\n",
    "            U[i] = U[i+1]\n",
    "        \n",
    "        U[n-1] = d = x_prime - x\n",
    "        x_prime = line_search(f, x ,d)\n",
    "        delta = np.linalg.norm(x-x_prime)\n",
    "        x = x_prime \n",
    "    \n",
    "    return x"
   ]
  },
  {
   "cell_type": "code",
   "execution_count": null,
   "metadata": {},
   "outputs": [],
   "source": []
  }
 ]
}