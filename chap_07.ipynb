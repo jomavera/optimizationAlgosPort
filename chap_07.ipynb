{
 "metadata": {
  "language_info": {
   "codemirror_mode": {
    "name": "ipython",
    "version": 3
   },
   "file_extension": ".py",
   "mimetype": "text/x-python",
   "name": "python",
   "nbconvert_exporter": "python",
   "pygments_lexer": "ipython3",
   "version": "3.8.10"
  },
  "orig_nbformat": 2,
  "kernelspec": {
   "name": "python3810jvsc74a57bd0ba3b919a19380c03e01f18adb9941583c39169f4907f8bc2002c90bf52d7e13c",
   "display_name": "Python 3.8.10 64-bit ('optAlgos': conda)"
  }
 },
 "nbformat": 4,
 "nbformat_minor": 2,
 "cells": [
  {
   "source": [
    "# Chapter 7: Direct Methods"
   ],
   "cell_type": "markdown",
   "metadata": {}
  },
  {
   "cell_type": "code",
   "execution_count": 4,
   "metadata": {},
   "outputs": [],
   "source": [
    "import numpy as np\n",
    "from copy import copy"
   ]
  },
  {
   "source": [
    "## Algorithm 7.1"
   ],
   "cell_type": "markdown",
   "metadata": {}
  },
  {
   "cell_type": "code",
   "execution_count": 2,
   "metadata": {},
   "outputs": [],
   "source": [
    "def basis(i,n):\n",
    "    return [1.0 if k == i else 0.0 for k in range(n)]"
   ]
  },
  {
   "source": [
    "## Algorithm 7.2"
   ],
   "cell_type": "markdown",
   "metadata": {}
  },
  {
   "cell_type": "code",
   "execution_count": 19,
   "metadata": {},
   "outputs": [],
   "source": [
    "def cyclic_coordinate_descent(f, x, epsilon):\n",
    "    delta, n = np.infty, x.shape[0]\n",
    "    while np.abs(delta) > epsilon:\n",
    "        x_prime = copy(x)\n",
    "        for i in range(n):\n",
    "            d = basis(i,n)\n",
    "            x = line_search(f,x,d)\n",
    "        delta = np.linalg.norm(x-x_prime)\n",
    "    \n",
    "    return x"
   ]
  }
 ]
}