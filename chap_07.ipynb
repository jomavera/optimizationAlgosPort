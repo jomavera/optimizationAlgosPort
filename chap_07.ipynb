{
 "metadata": {
  "language_info": {
   "codemirror_mode": {
    "name": "ipython",
    "version": 3
   },
   "file_extension": ".py",
   "mimetype": "text/x-python",
   "name": "python",
   "nbconvert_exporter": "python",
   "pygments_lexer": "ipython3",
   "version": "3.8.10"
  },
  "orig_nbformat": 2,
  "kernelspec": {
   "name": "python3",
   "display_name": "Python 3.8.10 64-bit ('optAlgos': conda)"
  },
  "interpreter": {
   "hash": "ba3b919a19380c03e01f18adb9941583c39169f4907f8bc2002c90bf52d7e13c"
  }
 },
 "nbformat": 4,
 "nbformat_minor": 2,
 "cells": [
  {
   "source": [
    "# Chapter 7: Direct Methods"
   ],
   "cell_type": "markdown",
   "metadata": {}
  },
  {
   "cell_type": "code",
   "execution_count": 2,
   "metadata": {},
   "outputs": [],
   "source": [
    "from copy import copy\n",
    "from dataclasses import dataclass\n",
    "import jax\n",
    "import numpy as np"
   ]
  },
  {
   "source": [
    "## Algorithm 7.1"
   ],
   "cell_type": "markdown",
   "metadata": {}
  },
  {
   "cell_type": "code",
   "execution_count": 3,
   "metadata": {},
   "outputs": [],
   "source": [
    "def basis(i,n):\n",
    "    return [1.0 if k == i else 0.0 for k in range(n)]"
   ]
  },
  {
   "source": [
    "## Algorithm 7.2"
   ],
   "cell_type": "markdown",
   "metadata": {}
  },
  {
   "cell_type": "code",
   "execution_count": 2,
   "metadata": {},
   "outputs": [],
   "source": [
    "def cyclic_coordinate_descent(f, x, epsilon):\n",
    "    delta, n = np.infty, x.shape[0]\n",
    "    while np.abs(delta) > epsilon:\n",
    "        x_prime = copy(x)\n",
    "        for i in range(n):\n",
    "            d = basis(i,n)\n",
    "            x = line_search(f,x,d)\n",
    "        delta = np.linalg.norm(x-x_prime)\n",
    "    \n",
    "    return x"
   ]
  },
  {
   "source": [
    "### Example"
   ],
   "cell_type": "markdown",
   "metadata": {}
  },
  {
   "cell_type": "code",
   "execution_count": 25,
   "metadata": {},
   "outputs": [
    {
     "output_type": "stream",
     "name": "stdout",
     "text": [
      "[3.96834752 3.9401    ]\n"
     ]
    }
   ],
   "source": [
    "def line_search(f, x, d):\n",
    "    '''\n",
    "    Approximate line search with armijo condition\n",
    "    '''\n",
    "    alpha = 1.0\n",
    "    tau = 0.7\n",
    "    c = 0.1\n",
    "    gradient = jax.grad(f)\n",
    "\n",
    "    while f(x  + alpha*np.array(d)) > f(x) + c*alpha*np.matmul( np.array(gradient(x)).reshape(-1,1).T , np.array(d).reshape(-1,1) )[0,0]:\n",
    "        alpha = tau * alpha\n",
    "    \n",
    "    return x  + alpha*np.array(d) \n",
    "\n",
    "func = lambda x: (1-x[0])**2 + 5*(4*x[1] - x[0]**2)**2\n",
    "\n",
    "x = np.array([1.0, 3.0])\n",
    "epsilon = 0.01\n",
    "x_sol = cyclic_coordinate_descent(func, x, epsilon)\n",
    "print(x_sol)"
   ]
  },
  {
   "source": [
    "## Algorithm 7.3"
   ],
   "cell_type": "markdown",
   "metadata": {}
  },
  {
   "cell_type": "code",
   "execution_count": 27,
   "metadata": {},
   "outputs": [],
   "source": [
    "def cyclic_coordinate_descent_with_acceleration_step(f, x, epsilon):\n",
    "    delta, n = np.infty, x.shape[0]\n",
    "    while np.abs(delta) > epsilon:\n",
    "        x_prime = copy(x)\n",
    "        for i in range(n):\n",
    "            d = basis(i,n)\n",
    "            x = line_search(f,x,d)\n",
    "        x = line_search(f, x, x-x_prime)\n",
    "        delta = np.linalg.norm(x-x_prime)\n",
    "    \n",
    "    return x"
   ]
  },
  {
   "source": [
    "## Algorithm 7.4"
   ],
   "cell_type": "markdown",
   "metadata": {}
  },
  {
   "cell_type": "code",
   "execution_count": 32,
   "metadata": {},
   "outputs": [],
   "source": [
    "def powell(f, x, epsilon):\n",
    "    n = x.shape[0]\n",
    "    U = [basis(i,n) for i in range(n)]\n",
    "    delta = np.infty\n",
    "    while delta > epsilon:\n",
    "        x_prime = copy(x)\n",
    "        for i in range(n):\n",
    "            d = U[i]\n",
    "            x_prime = line_search(f, x_prime, d)\n",
    "        \n",
    "        for i in range(n-1):\n",
    "            U[i] = U[i+1]\n",
    "        \n",
    "        U[n-1] = d = x_prime - x\n",
    "        x_prime = line_search(f, x ,d)\n",
    "        delta = np.linalg.norm(x-x_prime)\n",
    "        x = x_prime \n",
    "    \n",
    "    return x"
   ]
  },
  {
   "source": [
    "## Algorithm 7.5"
   ],
   "cell_type": "markdown",
   "metadata": {}
  },
  {
   "cell_type": "code",
   "execution_count": 8,
   "metadata": {},
   "outputs": [],
   "source": [
    "def hooke_jeeves(f, x, alpha, epsilon, gamma=0.5):\n",
    "    y, n = f(x), x.shape[0]\n",
    "    while alpha > epsilon:\n",
    "        improved = False\n",
    "        x_best, y_best = x, y\n",
    "        for i in range(n):\n",
    "            for sgn in [-1,1]:\n",
    "                x_prime = x + sgn*alpha*np.array(basis(i,n))\n",
    "                y_prime = f(x_prime)\n",
    "                if y_prime < y_best:\n",
    "                    x_best, y_best, improved = x_prime, y_prime, True\n",
    "        x, y = x_best, y_best\n",
    "\n",
    "        if not improved:\n",
    "            alpha *= gamma\n",
    "    return x"
   ]
  },
  {
   "source": [
    "## Algorithm 7.6"
   ],
   "cell_type": "markdown",
   "metadata": {}
  },
  {
   "cell_type": "code",
   "execution_count": 27,
   "metadata": {},
   "outputs": [],
   "source": [
    "def generalized_pattern_search(f, x, alpha, D, epsilon, gamma=0.5):\n",
    "    y, n = f(x), x.shape[0]\n",
    "    while alpha > epsilon:\n",
    "        improved= False\n",
    "        for i, d in enumerate(D):\n",
    "            x_prime = x + alpha*d\n",
    "            y_prime = f(x_prime)\n",
    "            if y_prime < y:\n",
    "                x, y, improved = x_prime, y_prime, True\n",
    "                del D[i]\n",
    "                D.insert(i,d)\n",
    "                break\n",
    "        if not improved:\n",
    "            alpha *= gamma\n",
    "    return x"
   ]
  },
  {
   "source": [
    "### Example"
   ],
   "cell_type": "markdown",
   "metadata": {}
  },
  {
   "cell_type": "code",
   "execution_count": 30,
   "metadata": {},
   "outputs": [
    {
     "output_type": "stream",
     "name": "stdout",
     "text": [
      "[4.875 5.975]\n"
     ]
    }
   ],
   "source": [
    "func = lambda x: (1-x[0])**2 + 5*(4*x[1] - x[0]**2)**2\n",
    "\n",
    "x = np.array([1.0, 3.0])\n",
    "D = [np.array([0.2,3.3]), np.array([0.1,0.1]), np.array([4.1,1.1])]\n",
    "epsilon = 0.01\n",
    "alpha = 0.1\n",
    "x_sol = generalized_pattern_search(func, x, alpha, D, epsilon)\n",
    "print(x_sol)"
   ]
  },
  {
   "source": [
    "## Algorithm 7.7"
   ],
   "cell_type": "markdown",
   "metadata": {}
  },
  {
   "cell_type": "code",
   "execution_count": 7,
   "metadata": {},
   "outputs": [],
   "source": [
    "def nelder_mead(f, S, epsilon, alpha=1.0, beta=2.0, gamma=0.5):\n",
    "    delta, y_arr = np.infty, np.array([f(s) for s in S])\n",
    "    while delta > epsilon:\n",
    "        p = np.argsort(y_arr)\n",
    "        S, y_arr = S[p,:], y_arr[p]\n",
    "        xl, yl = S[0,:], y_arr[0]\n",
    "        xh, yh = S[-1,:], y_arr[-1]\n",
    "        xs, ys = S[-2,:], y_arr[-2]\n",
    "        xm = np.mean(S[0:-2,:])\n",
    "        xr = xm + alpha*(xm - xh)\n",
    "        yr = f(xr)\n",
    "\n",
    "        if yr < yl:\n",
    "            xe = xm + beta*(xr-xm)\n",
    "            ye = f(xe)\n",
    "            S[-1,:], y_arr[-1] = (xe, ye) if ye < yr else (xr, yr)\n",
    "        elif yr >= ys:\n",
    "            if yr < yh:\n",
    "                xh, yh, S[-1,:], y_arr[-1] = xr, yr, xr, yr\n",
    "            \n",
    "            xc = xm + gamma*(xh - xm)\n",
    "            yc = f(xc)\n",
    "            if yc > yh:\n",
    "                for i in range(1,y_arr.shape[0]-1):\n",
    "                    S[i,:] = (S[i,:]+xl)/2\n",
    "                    y_arr[i] = f(S[i,:])\n",
    "            else:\n",
    "                S[-1,:], y_arr[-1] = xc, yc\n",
    "            \n",
    "        else:\n",
    "            S[-1,:], y_arr[-1] = xr, yr\n",
    "        \n",
    "        delta = np.std(y_arr, ddof=1)\n",
    "\n",
    "    return S[np.argmin(y_arr)]"
   ]
  },
  {
   "source": [
    "### Example"
   ],
   "cell_type": "markdown",
   "metadata": {}
  },
  {
   "cell_type": "code",
   "execution_count": 8,
   "metadata": {},
   "outputs": [
    {
     "output_type": "stream",
     "name": "stdout",
     "text": [
      "[1.21875 1.15625]\n"
     ]
    }
   ],
   "source": [
    "f = lambda x: -np.exp(-(x[0]*x[1] - 1.5)**2 -(x[1]-1.5)**2)\n",
    "\n",
    "S = np.array([[0.25,0.25], [0.75,0.5], [0.75,1.25]])\n",
    "epsilon = 0.1\n",
    "x = nelder_mead(f, S, epsilon)\n",
    "print(x)"
   ]
  },
  {
   "source": [
    "## Algorithm 7.8"
   ],
   "cell_type": "markdown",
   "metadata": {}
  },
  {
   "cell_type": "code",
   "execution_count": null,
   "metadata": {},
   "outputs": [],
   "source": [
    "def direct(f, a, b, epsilon, k_max):\n",
    "    g = reparameterize_to_unit_hypercube(f, a, b)\n",
    "    intervals = {}\n",
    "    n = a.shape[0]\n",
    "    c = np.empty(n).fill(0.5)\n",
    "    interval = Interval(c, g(c), np.empty(n).fill(0.0))\n",
    "    intervals = add_interval(intervals, interval)\n",
    "    c_best, y_best = copy(interval.c), interval.y\n",
    "\n",
    "    for k in range(k_max):\n",
    "        S = get_opt_intervals(intervals, epsilon, y_best)\n",
    "        to_add = []\n",
    "        for interval in S:\n",
    "            to_add.append(divide(g, interval))\n",
    "            intervals[min_depth(interval)].pop(0)\n",
    "        \n",
    "        for interval in to_add:\n",
    "            intervals = add_interval(intervals, interval)\n",
    "            if interval.y < y_best:\n",
    "                c_best, y_best = copy(interval.c), interval.y\n",
    "    \n",
    "    return rev_unit_hypercube_parameterization(c_best, a, b)"
   ]
  },
  {
   "source": [
    "## Algorithm 7.9"
   ],
   "cell_type": "markdown",
   "metadata": {}
  },
  {
   "cell_type": "code",
   "execution_count": null,
   "metadata": {},
   "outputs": [],
   "source": [
    "rev_unit_hypercube_parameterization = lambda x, a, b : x*(b-a) + a \n",
    "\n",
    "def reparameterize_to_unit_hypercube(f, a, b):\n",
    "    delta = b-a\n",
    "    retrun lambda x: f(x*delta + a)"
   ]
  },
  {
   "source": [
    "## Algorithm 7.10"
   ],
   "cell_type": "markdown",
   "metadata": {}
  },
  {
   "cell_type": "code",
   "execution_count": 3,
   "metadata": {},
   "outputs": [],
   "source": [
    "@dataclass\n",
    "class Interval:\n",
    "   c: np.ndarray\n",
    "   y: float\n",
    "   depths: np.ndarray\n",
    "\n",
    "min_depth = lambda interval: np.min(interval.depths)\n",
    "\n",
    "def add_interval(intervals, interval):\n",
    "    d = min_depth(interval)\n",
    "\n",
    "    if d not in intervals:\n",
    "        intervals[d] = []\n",
    "    intervals[d].append((interval.y, interval))\n",
    "    intervals[d].sort(reverse=True)\n",
    "    return intervals"
   ]
  },
  {
   "cell_type": "code",
   "execution_count": 2,
   "metadata": {},
   "outputs": [
    {
     "output_type": "execute_result",
     "data": {
      "text/plain": [
       "18"
      ]
     },
     "metadata": {},
     "execution_count": 2
    }
   ],
   "source": [
    "f = lambda x,y,z : x*y*z\n",
    "\n",
    "f(3,2,3)"
   ]
  },
  {
   "cell_type": "code",
   "execution_count": null,
   "metadata": {},
   "outputs": [],
   "source": []
  }
 ]
}