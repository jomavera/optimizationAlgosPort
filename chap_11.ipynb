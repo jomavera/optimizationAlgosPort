{
 "cells": [
  {
   "cell_type": "markdown",
   "source": [
    "# Chapter 11: Linear Constrained Optimization"
   ],
   "metadata": {}
  },
  {
   "cell_type": "code",
   "execution_count": 1,
   "source": [
    "from dataclasses import dataclass\r\n",
    "import numpy as np"
   ],
   "outputs": [],
   "metadata": {}
  },
  {
   "cell_type": "markdown",
   "source": [
    "## Algorithm 11.1"
   ],
   "metadata": {}
  },
  {
   "cell_type": "code",
   "execution_count": 2,
   "source": [
    "@dataclass\r\n",
    "class LinearProgram:\r\n",
    "    A : np.ndarray\r\n",
    "    b: np.ndarray\r\n",
    "    c: np.ndarray\r\n",
    "\r\n",
    "def get_vertex(B, LP):\r\n",
    "    A, b, c = LP.A, LP.b, LP.c\r\n",
    "    b_inds = np.sort(B)\r\n",
    "    AB = A[:, b_inds]\r\n",
    "    xB = np.linalg.solve(AB, b)\r\n",
    "    x = np.zeros(len(c))\r\n",
    "    x[b_inds] = xB\r\n",
    "    return x"
   ],
   "outputs": [],
   "metadata": {}
  },
  {
   "cell_type": "markdown",
   "source": [
    "## Algorithm 11.2"
   ],
   "metadata": {}
  },
  {
   "cell_type": "code",
   "execution_count": 38,
   "source": [
    "def edge_transition(LP, B, q):\r\n",
    "    A, b, c = LP.A, LP.b, LP.c\r\n",
    "    n = A.shape[1]\r\n",
    "    b_inds = np.sort(np.array(B)-1)\r\n",
    "    n_inds = np.sort(np.setdiff1d(np.arange(0,n,1), np.array(B)-1))\r\n",
    "    AB = A[:, b_inds]\r\n",
    "    d, xB = np.linalg.solve(AB, A[:, n_inds[q-1]]), np.linalg.solve(AB, b)\r\n",
    " \r\n",
    "    p, xq_prime = 0, np.infty\r\n",
    "\r\n",
    "    for i in range(len(d)):\r\n",
    "        if d[i] > 0:\r\n",
    "            v = xB[i,:]/d[i]\r\n",
    "            if v < xq_prime:\r\n",
    "                p, xq_prime = i, v\r\n",
    "    \r\n",
    "    return p, xq_prime"
   ],
   "outputs": [],
   "metadata": {}
  },
  {
   "cell_type": "markdown",
   "source": [
    "### Example"
   ],
   "metadata": {}
  },
  {
   "cell_type": "code",
   "execution_count": 39,
   "source": [
    "A= np.array([\r\n",
    "    [1, 1, 1, 0],\r\n",
    "    [-4, 2, 0, 1]\r\n",
    "])\r\n",
    "b = np.array([[9], [2]])\r\n",
    "c = np.array([[3], [-1], [0], [0]])\r\n",
    "\r\n",
    "problema = LinearProgram(A, b, c)\r\n",
    "B = [3,4] #base variables indexes (index start from 1)\r\n",
    "q = 2 # entering variable (index start from 1) \r\n",
    "p, xp = edge_transition(problema, B, q)\r\n",
    "B[p] = q\r\n",
    "\r\n",
    "print(f\"New Base: {B} --- Value of entering variable: {xp[0]}\")"
   ],
   "outputs": [
    {
     "output_type": "stream",
     "name": "stdout",
     "text": [
      "New Base: [3, 2] --- Value of entering variable: 1.0\n"
     ]
    }
   ],
   "metadata": {}
  },
  {
   "cell_type": "markdown",
   "source": [
    "## Algorithm 11.3"
   ],
   "metadata": {}
  },
  {
   "cell_type": "code",
   "execution_count": null,
   "source": [
    "def step_lp(B, LP):\r\n",
    "    A, b, c = LP.A, LP.b, LP.c\r\n",
    "    n = A.shape[1]\r\n",
    "    b_inds = np.sort(np.array(B)-1)\r\n",
    "    n_inds = np.sort(np.setdiff1d(np.arange(0,n,1), np.array(B)-1))\r\n",
    "    AB, AV = A[:, b_inds], A[:, n_inds]\r\n",
    "    xB = np.linalg.solve(AB, b)\r\n",
    "    cB = c[:,b_inds]\r\n",
    "    lambda_ = np.linalg.solve(AB.T, cB)\r\n",
    "    cV = c[n_inds]\r\n",
    "    muV = cV - np.matmul(AV.T, lambda_)\r\n",
    "\r\n",
    "    q, p, xq_prime, delta = -1, 0, np.infty, np.infty\r\n",
    "    for i  in range(len(muV)):\r\n",
    "        if muV[i] < 0:\r\n",
    "            pi, xi_prime = edge_transition(LP, B, i+1)\r\n",
    "            if np.matmul(muV[i],xi_prime) < delta:\r\n",
    "                q, p, xq_prime, delta = i, pi, xi_prime, np.matmul(muV[i],xi_prime)\r\n",
    "    if q == -1:\r\n",
    "        return B, True\r\n",
    "    \r\n",
    "    if xq_prime == np.infty:\r\n",
    "        raise ValueError(\"unbounded\")\r\n",
    "\r\n",
    "    j = np.argmax(B == b_inds[p])\r\n",
    "    B[j] = n_inds[q]\r\n",
    "    return B, False"
   ],
   "outputs": [],
   "metadata": {}
  }
 ],
 "metadata": {
  "orig_nbformat": 4,
  "language_info": {
   "name": "python",
   "version": "3.8.5",
   "mimetype": "text/x-python",
   "codemirror_mode": {
    "name": "ipython",
    "version": 3
   },
   "pygments_lexer": "ipython3",
   "nbconvert_exporter": "python",
   "file_extension": ".py"
  },
  "kernelspec": {
   "name": "python3",
   "display_name": "Python 3.8.5 64-bit ('base': conda)"
  },
  "interpreter": {
   "hash": "268b319f7084a2dea34336c52b292ca5e2c28fc4b991a4e2b0a0493a5f1c3810"
  }
 },
 "nbformat": 4,
 "nbformat_minor": 2
}