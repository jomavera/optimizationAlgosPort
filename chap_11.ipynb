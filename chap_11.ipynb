{
 "cells": [
  {
   "cell_type": "markdown",
   "source": [
    "# Chapter 11: Linear Constrained Optimization"
   ],
   "metadata": {}
  },
  {
   "cell_type": "code",
   "execution_count": 161,
   "source": [
    "from dataclasses import dataclass\n",
    "import numpy as np"
   ],
   "outputs": [],
   "metadata": {}
  },
  {
   "cell_type": "markdown",
   "source": [
    "## Algorithm 11.1"
   ],
   "metadata": {}
  },
  {
   "cell_type": "code",
   "execution_count": 195,
   "source": [
    "@dataclass\n",
    "class LinearProgram:\n",
    "    A : np.ndarray\n",
    "    b: np.ndarray\n",
    "    c: np.ndarray\n",
    "\n",
    "def get_vertex(B, LP):\n",
    "    A, b, c = LP.A, LP.b, LP.c\n",
    "    b_inds = np.sort(np.array(B)-1)\n",
    "    AB = A[:, b_inds]\n",
    "    xB = np.linalg.solve(AB, b)\n",
    "    x = np.zeros(len(c))\n",
    "    x[b_inds] = xB.reshape(-1,)\n",
    "    return x"
   ],
   "outputs": [],
   "metadata": {}
  },
  {
   "cell_type": "markdown",
   "source": [
    "## Algorithm 11.2"
   ],
   "metadata": {}
  },
  {
   "cell_type": "code",
   "execution_count": 170,
   "source": [
    "def edge_transition(LP, B, q):\n",
    "    A, b, c = LP.A, LP.b, LP.c\n",
    "    n = A.shape[1]\n",
    "    b_inds = np.sort(np.array(B)-1)\n",
    "    n_inds = np.sort(np.setdiff1d(np.arange(0,n,1), np.array(B)-1))\n",
    "    AB = A[:, b_inds]\n",
    "    d, xB = np.linalg.solve(AB, A[:, n_inds[q-1]]), np.linalg.solve(AB, b)\n",
    " \n",
    "    p, xq_prime = 0, np.infty\n",
    "\n",
    "    for i in range(len(d)):\n",
    "        if d[i] > 0:\n",
    "            v = xB[i,:]/d[i]\n",
    "            if v < xq_prime:\n",
    "                p, xq_prime = i, v\n",
    "    \n",
    "    return p, xq_prime"
   ],
   "outputs": [],
   "metadata": {}
  },
  {
   "cell_type": "markdown",
   "source": [
    "### Example"
   ],
   "metadata": {}
  },
  {
   "cell_type": "code",
   "execution_count": 171,
   "source": [
    "A= np.array([\n",
    "    [1, 1, 1, 0],\n",
    "    [-4, 2, 0, 1]\n",
    "])\n",
    "b = np.array([[9], [2]])\n",
    "c = np.array([[3], [-1], [0], [0]])\n",
    "\n",
    "problema = LinearProgram(A, b, c)\n",
    "B = [3,4] #base variables indexes (index start from 1)\n",
    "q = 2 # entering variable (index start from 1) \n",
    "p, xp = edge_transition(problema, B, q)\n",
    "B[p] = q\n",
    "\n",
    "print(f\"New Base: {B} --- Value of entering variable: {xp[0]}\")"
   ],
   "outputs": [
    {
     "output_type": "stream",
     "name": "stdout",
     "text": [
      "New Base: [3, 2] --- Value of entering variable: 1.0\n"
     ]
    }
   ],
   "metadata": {}
  },
  {
   "cell_type": "markdown",
   "source": [
    "## Algorithm 11.3"
   ],
   "metadata": {}
  },
  {
   "cell_type": "code",
   "execution_count": 201,
   "source": [
    "def step_lp(B, LP):\n",
    "    A, b, c = LP.A, LP.b, LP.c\n",
    "    n = A.shape[1]\n",
    "    b_inds = np.sort(np.array(B)-1)\n",
    "    n_inds = np.sort(np.setdiff1d(np.arange(0,n,1), np.array(B)-1))\n",
    "    \n",
    "    AB, AV = A[:, b_inds], A[:, n_inds]\n",
    "\n",
    "    xB = np.linalg.solve(AB, b)\n",
    "    cB = c[b_inds,:]\n",
    "    lambda_ = np.linalg.solve(AB.T, cB)\n",
    "    cV = c[n_inds]\n",
    "    muV = cV - np.matmul(AV.T, lambda_)\n",
    "\n",
    "    q, p, xq_prime, delta = -1, 0, np.infty, np.infty\n",
    "    for i in range(len(muV)):\n",
    "        if muV[i] < 0:\n",
    "            pi, xi_prime = edge_transition(LP, B, i+1)\n",
    "            if np.matmul(muV[i],xi_prime) < delta:\n",
    "                q, p, xq_prime, delta = i+1, pi, xi_prime, np.matmul(muV[i],xi_prime)\n",
    "\n",
    "    if q == -1:\n",
    "        return B, True\n",
    "    \n",
    "    if xq_prime == np.infty:\n",
    "        raise ValueError(\"unbounded\")\n",
    "    \n",
    "    j = np.argmax(B == b_inds[p]+1)\n",
    "    B[j] = n_inds[q-1] +1\n",
    "    return B, False"
   ],
   "outputs": [],
   "metadata": {}
  },
  {
   "cell_type": "markdown",
   "source": [
    "### Example"
   ],
   "metadata": {}
  },
  {
   "cell_type": "code",
   "execution_count": 200,
   "source": [
    "A= np.array([\n",
    "    [1, 1, 1, 0],\n",
    "    [-4, 2, 0, 1]\n",
    "])\n",
    "b = np.array([[9], [2]])\n",
    "c = np.array([[3], [-1], [0], [0]])\n",
    "\n",
    "problema = LinearProgram(A, b, c)\n",
    "B = [3,4] #base variables indexes (index start from 1)\n",
    "\n",
    "B, done = step_lp(B, problema)\n",
    "\n",
    "print(B)\n",
    "print(done)\n"
   ],
   "outputs": [
    {
     "output_type": "stream",
     "name": "stdout",
     "text": [
      "[3, 2]\n",
      "False\n"
     ]
    }
   ],
   "metadata": {}
  },
  {
   "cell_type": "markdown",
   "source": [
    "## Algorithm 11.4"
   ],
   "metadata": {}
  },
  {
   "cell_type": "code",
   "execution_count": 197,
   "source": [
    "def minimize_lp(B, LP):\n",
    "    done = False\n",
    "    while not done:\n",
    "        B, done = step_lp(B, LP)\n",
    "    return B"
   ],
   "outputs": [],
   "metadata": {}
  },
  {
   "cell_type": "markdown",
   "source": [
    "## Algorithm 11.5"
   ],
   "metadata": {}
  },
  {
   "cell_type": "code",
   "execution_count": 198,
   "source": [
    "def minimize_lp_init(LP):\n",
    "    A, b, c = LP.A, LP.b, LP.c\n",
    "    m, n = A.shape\n",
    "    z = np.ones((m,1))\n",
    "    Z = np.diag([1 if i >=0 else -1 for i in b])\n",
    "\n",
    "    A_prime = np.concatenate((A,Z),axis=1)\n",
    "    b_prime = b\n",
    "    c_prime = np.concatenate((np.zeros((n,1)),z),axis=0)\n",
    "\n",
    "    LP_init = LinearProgram(A_prime, b_prime, c_prime)\n",
    "    B = np.arange(n+1, m+n+1,1)\n",
    "    B = minimize_lp(B, LP_init)\n",
    "    if np.any([True if i > n else False for i in B]):\n",
    "        print(\"infeasible\")\n",
    "\n",
    "    return get_vertex(B, LP_init)"
   ],
   "outputs": [],
   "metadata": {}
  },
  {
   "cell_type": "markdown",
   "source": [
    "### Example"
   ],
   "metadata": {}
  },
  {
   "cell_type": "code",
   "execution_count": 199,
   "source": [
    "A= np.array([\n",
    "    [1, 1, 1, 0],\n",
    "    [-4, 2, 0, 1]\n",
    "])\n",
    "b = np.array([[9], [2]])\n",
    "c = np.array([[3], [-1], [0], [0]])\n",
    "\n",
    "problema = LinearProgram(A, b, c)\n",
    "minimize_lp_init(problema)\n"
   ],
   "outputs": [
    {
     "output_type": "execute_result",
     "data": {
      "text/plain": [
       "array([0., 1., 8., 0., 0., 0.])"
      ]
     },
     "metadata": {},
     "execution_count": 199
    }
   ],
   "metadata": {}
  },
  {
   "cell_type": "markdown",
   "source": [
    "## Algorithm 11.6"
   ],
   "metadata": {}
  },
  {
   "cell_type": "code",
   "execution_count": null,
   "source": [
    "def dual_certificate(LP, x, mu, epsilon=1e-6):\n",
    "    A, b, c = LP.A, LP.b, LP.c\n",
    "    primal_feasible = np.all(np.where(x >= 0, True, False)) and np.all(np.isclose(np.mamtmul(A,x), b, atol=epsilon))\n",
    "    dual_feasible = np.all(np.where(np.mamtmul(A.T,mu) >= c, True, False))\n",
    "    return primal_feasible and dual_feasible and np.all(np.isclose(np.dot(c,x), np.dot(b,mu), atol=epsilon))"
   ],
   "outputs": [],
   "metadata": {}
  }
 ],
 "metadata": {
  "orig_nbformat": 4,
  "language_info": {
   "name": "python",
   "version": "3.8.10",
   "mimetype": "text/x-python",
   "codemirror_mode": {
    "name": "ipython",
    "version": 3
   },
   "pygments_lexer": "ipython3",
   "nbconvert_exporter": "python",
   "file_extension": ".py"
  },
  "kernelspec": {
   "name": "python3",
   "display_name": "Python 3.8.10 64-bit ('optAlgos': conda)"
  },
  "interpreter": {
   "hash": "ba3b919a19380c03e01f18adb9941583c39169f4907f8bc2002c90bf52d7e13c"
  }
 },
 "nbformat": 4,
 "nbformat_minor": 2
}