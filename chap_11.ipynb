{
 "cells": [
  {
   "cell_type": "markdown",
   "source": [
    "# Chapter 11: Linear Constrained Optimization"
   ],
   "metadata": {}
  },
  {
   "cell_type": "code",
   "execution_count": null,
   "source": [
    "from dataclasses import dataclass\r\n",
    "import numpy as np"
   ],
   "outputs": [],
   "metadata": {}
  },
  {
   "cell_type": "markdown",
   "source": [
    "## Algorithm 11.1"
   ],
   "metadata": {}
  },
  {
   "cell_type": "code",
   "execution_count": null,
   "source": [
    "@dataclass\r\n",
    "class LinearProgram:\r\n",
    "    A : np.ndarray\r\n",
    "    b: np.ndarray\r\n",
    "    c: np.ndarray\r\n",
    "\r\n",
    "def get_vertex(B, LP):\r\n",
    "    A, b, c = LP.A, LP.b, LP.c\r\n",
    "    b_inds = np.sort(B)\r\n",
    "    AB = A[:, b_inds]\r\n",
    "    xB = np.linalg.solve(AB, b)\r\n",
    "    x = np.zeros(len(c))\r\n",
    "    x[b_inds] = xB\r\n",
    "    return x"
   ],
   "outputs": [],
   "metadata": {}
  }
 ],
 "metadata": {
  "orig_nbformat": 4,
  "language_info": {
   "name": "plaintext"
  }
 },
 "nbformat": 4,
 "nbformat_minor": 2
}