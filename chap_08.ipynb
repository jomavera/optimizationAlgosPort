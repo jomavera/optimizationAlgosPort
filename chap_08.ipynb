{
 "metadata": {
  "language_info": {
   "codemirror_mode": {
    "name": "ipython",
    "version": 3
   },
   "file_extension": ".py",
   "mimetype": "text/x-python",
   "name": "python",
   "nbconvert_exporter": "python",
   "pygments_lexer": "ipython3",
   "version": "3.8.10"
  },
  "orig_nbformat": 4,
  "kernelspec": {
   "name": "python3",
   "display_name": "Python 3.8.10 64-bit ('optAlgos': conda)"
  },
  "interpreter": {
   "hash": "ba3b919a19380c03e01f18adb9941583c39169f4907f8bc2002c90bf52d7e13c"
  }
 },
 "nbformat": 4,
 "nbformat_minor": 2,
 "cells": [
  {
   "source": [
    "# Chapter 8: Stochastic Methods"
   ],
   "cell_type": "markdown",
   "metadata": {}
  },
  {
   "cell_type": "code",
   "execution_count": 17,
   "metadata": {},
   "outputs": [],
   "source": [
    "from copy import copy\n",
    "import jax\n",
    "import numpy as np"
   ]
  },
  {
   "source": [
    "## Algorithm 8.1"
   ],
   "cell_type": "markdown",
   "metadata": {}
  },
  {
   "cell_type": "code",
   "execution_count": 18,
   "metadata": {},
   "outputs": [],
   "source": [
    "class NoisyDescent:\n",
    "\n",
    "    def __init__(self, submethod, sigma):\n",
    "        self.submethod = submethod\n",
    "        self.sigma = sigma\n",
    "        self.k = 1\n",
    "    \n",
    "    def step(self, f, gradient, x):\n",
    "        x = self.submethod.step(f, gradient, x)\n",
    "        sigma = self.sigma[self.k]\n",
    "        x += sigma*np.random.randn(x.shape[0])\n",
    "        self.k += 1\n",
    "\n",
    "        return x"
   ]
  },
  {
   "source": [
    "### Example"
   ],
   "cell_type": "markdown",
   "metadata": {}
  },
  {
   "cell_type": "code",
   "execution_count": 19,
   "metadata": {},
   "outputs": [
    {
     "output_type": "stream",
     "name": "stdout",
     "text": [
      "[  1.3609072 -12.642112  -12.549556 ]\n"
     ]
    }
   ],
   "source": [
    "class GradientDescent:\n",
    "    def __init__(self, alpha):\n",
    "        self.alpha = alpha # α\n",
    "\n",
    "    def step(self, f, gradient, x):\n",
    "        g = gradient(x)\n",
    "        return x - self.alpha*g\n",
    "\n",
    "def fun(x):\n",
    "    return jax.numpy.sin(x[0]*x[1])+jax.numpy.exp(x[1]+x[2])-x[2]\n",
    "\n",
    "x_0 = np.array([1.0, 2.0, 3.0])\n",
    "gradient = jax.grad(fun)\n",
    "submethod = GradientDescent(0.1)\n",
    "sigma = [1.1/k for k in range(1,21)]\n",
    "M = NoisyDescent(submethod, sigma)\n",
    "x_1 = M.step(fun, gradient, x_0) \n",
    "print(x_1)"
   ]
  },
  {
   "source": [
    "## Algorithm 8.2"
   ],
   "cell_type": "markdown",
   "metadata": {}
  },
  {
   "cell_type": "code",
   "execution_count": null,
   "metadata": {},
   "outputs": [],
   "source": [
    "def rand_positive_spanning_set(alpha, n):\n",
    "    delta = np.round(1/np.sqrt(alpha))\n",
    "    L = np.diag(delta*np.random.choice([-1,1],size=n ))\n",
    "    for i in range(0,n-1):\n",
    "        for j in range(i+1,n):\n",
    "            L[j,i] = np.random.choice(range(-delta+1,delta+1+1))\n",
    "    D = L[np.random.permutation(n),:]\n",
    "    D = D[:, np.random.permutation(n)]\n",
    "    D = np.stack(D, -np.sum(D,axis=1), axis=1)\n",
    "    return [D[:,i] for i in range(0, n)]\n"
   ]
  }
 ]
}