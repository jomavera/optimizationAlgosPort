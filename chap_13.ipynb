{
 "cells": [
  {
   "cell_type": "markdown",
   "metadata": {},
   "source": [
    "# Chapter 13: Sampling Plans"
   ]
  },
  {
   "cell_type": "code",
   "execution_count": 1,
   "metadata": {},
   "outputs": [],
   "source": [
    "import numpy as np"
   ]
  },
  {
   "cell_type": "markdown",
   "metadata": {},
   "source": [
    "## Algorithm 13.1"
   ]
  },
  {
   "cell_type": "code",
   "execution_count": 9,
   "metadata": {},
   "outputs": [],
   "source": [
    "def samples_full_factorial(a, b, m):\n",
    "    ranges = (np.linspace(a[i], b[i], m[i] ) for i in range(len(a)))\n",
    "    return np.meshgrid(*ranges)"
   ]
  },
  {
   "cell_type": "markdown",
   "metadata": {},
   "source": [
    "## Algorithm 13.2"
   ]
  },
  {
   "cell_type": "code",
   "execution_count": 19,
   "metadata": {},
   "outputs": [],
   "source": [
    "def uniform_projection_plan(m, n):\n",
    "    perms = [ np.random.permutation(m) for i in range(n) ]\n",
    "    return [ [perms[i][j] for i in range(n)] for j in range(m) ]"
   ]
  },
  {
   "cell_type": "markdown",
   "metadata": {},
   "source": [
    "## Algorithm 13.3"
   ]
  },
  {
   "cell_type": "code",
   "execution_count": 2,
   "metadata": {},
   "outputs": [],
   "source": [
    "def pairwise_distances(X, p=2):\n",
    "    m = len(X)\n",
    "    return [np.linalg.norm(X[i]-X[j],p) for i in range(m-1) for j in range(i+1,m)]"
   ]
  },
  {
   "cell_type": "markdown",
   "metadata": {},
   "source": [
    "### Example"
   ]
  },
  {
   "cell_type": "code",
   "execution_count": 5,
   "metadata": {},
   "outputs": [
    {
     "data": {
      "text/plain": [
       "[1.4866068747318502, 8.246211251235321, 7.6557168181692825]"
      ]
     },
     "execution_count": 5,
     "metadata": {},
     "output_type": "execute_result"
    }
   ],
   "source": [
    "X = np.array([[1.0, 3.0], [2.0, 4.1], [9.0,1.0]])\n",
    "pairwise_distances(X)"
   ]
  }
 ],
 "metadata": {
  "interpreter": {
   "hash": "a7cb0033f74169dc79f12061f5c27d00126b5e865c3b5dfee42ca374109fe68f"
  },
  "kernelspec": {
   "display_name": "Python 3.8.10 64-bit ('optAlgos': conda)",
   "name": "python3"
  },
  "language_info": {
   "codemirror_mode": {
    "name": "ipython",
    "version": 3
   },
   "file_extension": ".py",
   "mimetype": "text/x-python",
   "name": "python",
   "nbconvert_exporter": "python",
   "pygments_lexer": "ipython3",
   "version": "3.8.10"
  },
  "orig_nbformat": 4
 },
 "nbformat": 4,
 "nbformat_minor": 2
}
