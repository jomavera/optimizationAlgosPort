{
 "cells": [
  {
   "cell_type": "markdown",
   "metadata": {},
   "source": [
    "# Chapter 13: Sampling Plans"
   ]
  },
  {
   "cell_type": "code",
   "execution_count": 1,
   "metadata": {},
   "outputs": [],
   "source": [
    "import numpy as np"
   ]
  },
  {
   "cell_type": "markdown",
   "metadata": {},
   "source": [
    "## Algorithm 13.1"
   ]
  },
  {
   "cell_type": "code",
   "execution_count": 9,
   "metadata": {},
   "outputs": [],
   "source": [
    "def samples_full_factorial(a, b, m):\n",
    "    ranges = (np.linspace(a[i], b[i], m[i] ) for i in range(len(a)))\n",
    "    return np.meshgrid(*ranges)"
   ]
  },
  {
   "cell_type": "markdown",
   "metadata": {},
   "source": [
    "## Algorithm 13.2"
   ]
  },
  {
   "cell_type": "code",
   "execution_count": 19,
   "metadata": {},
   "outputs": [],
   "source": [
    "def uniform_projection_plan(m, n):\n",
    "    perms = [ np.random.permutation(m) for i in range(n) ]\n",
    "    return [ [perms[i][j] for i in range(n)] for j in range(m) ]"
   ]
  },
  {
   "cell_type": "markdown",
   "metadata": {},
   "source": [
    "## Algorithm 13.3"
   ]
  },
  {
   "cell_type": "code",
   "execution_count": 2,
   "metadata": {},
   "outputs": [],
   "source": [
    "def pairwise_distances(X, p=2):\n",
    "    m = len(X)\n",
    "    return [np.linalg.norm(X[i]-X[j],p) for i in range(m-1) for j in range(i+1,m)]"
   ]
  },
  {
   "cell_type": "markdown",
   "metadata": {},
   "source": [
    "### Example"
   ]
  },
  {
   "cell_type": "code",
   "execution_count": 5,
   "metadata": {},
   "outputs": [
    {
     "data": {
      "text/plain": [
       "[1.4866068747318502, 8.246211251235321, 7.6557168181692825]"
      ]
     },
     "execution_count": 5,
     "metadata": {},
     "output_type": "execute_result"
    }
   ],
   "source": [
    "X = np.array([[1.0, 3.0], [2.0, 4.1], [9.0,1.0]])\n",
    "pairwise_distances(X)"
   ]
  },
  {
   "cell_type": "markdown",
   "metadata": {},
   "source": [
    "## Algorithm 13.4"
   ]
  },
  {
   "cell_type": "code",
   "execution_count": 4,
   "metadata": {},
   "outputs": [],
   "source": [
    "def compare_sampling_plans(A,B, p=2):\n",
    "    pA = np.sort(pairwise_distances(A,p))\n",
    "    pB = np.sort(pairwise_distances(B,p))\n",
    "    for dA, dB in zip(pA, pB):\n",
    "        if dA < dB:\n",
    "            return 1\n",
    "        elif dA > dB:\n",
    "            return -1\n",
    "    return 0"
   ]
  },
  {
   "cell_type": "markdown",
   "metadata": {},
   "source": [
    "### Example"
   ]
  },
  {
   "cell_type": "code",
   "execution_count": 5,
   "metadata": {},
   "outputs": [
    {
     "data": {
      "text/plain": [
       "1"
      ]
     },
     "execution_count": 5,
     "metadata": {},
     "output_type": "execute_result"
    }
   ],
   "source": [
    "A = np.array([[1.0, 3.0], [2.0, 4.1], [9.0,1.0]])\n",
    "B = np.array([[1.5, 2.1], [5.2, 9.5], [7.3, 2.0]])\n",
    "compare_sampling_plans(A, B)"
   ]
  },
  {
   "cell_type": "markdown",
   "metadata": {},
   "source": [
    "## Algorithm 13.5"
   ]
  },
  {
   "cell_type": "code",
   "execution_count": 14,
   "metadata": {},
   "outputs": [],
   "source": [
    "def mutate(X):\n",
    "    m, n = len(X), len(X[0])\n",
    "    j = np.random.randint(n)\n",
    "    i = np.random.permutation(m)[0:2]\n",
    "    X[i[0]][j], X[i[1]][j] = X[i[1]][j], X[i[0]][j]\n",
    "    return X"
   ]
  },
  {
   "cell_type": "markdown",
   "metadata": {},
   "source": [
    "## Algorithm 13.6"
   ]
  },
  {
   "cell_type": "code",
   "execution_count": 8,
   "metadata": {},
   "outputs": [],
   "source": [
    "def phiq(X, q=1, p=2):\n",
    "    dists = np.array(pairwise_distances(X, p))\n",
    "    return np.sum((dists**(-q))**(1/q))"
   ]
  },
  {
   "cell_type": "markdown",
   "metadata": {},
   "source": [
    "## Algorithm 13.7"
   ]
  },
  {
   "cell_type": "code",
   "execution_count": 6,
   "metadata": {},
   "outputs": [],
   "source": [
    "def min_dist(a, B, p):\n",
    "    return np.min([np.linalg.norm(a-b, p) for b in B])\n",
    "def d_max(A, B, p=2):\n",
    "    return np.max([min_dist(a, B, p) for a in A]) "
   ]
  },
  {
   "cell_type": "markdown",
   "metadata": {},
   "source": [
    "### Example"
   ]
  },
  {
   "cell_type": "code",
   "execution_count": 4,
   "metadata": {},
   "outputs": [
    {
     "data": {
      "text/plain": [
       "2.06155281280883"
      ]
     },
     "execution_count": 4,
     "metadata": {},
     "output_type": "execute_result"
    }
   ],
   "source": [
    "A = np.array([[1.0, 3.0], [2.0, 4.1], [9.0,1.0]])\n",
    "B = np.array([[1.5, 2.1], [5.2, 9.5], [7.3, 2.0]])\n",
    "d_max(A,B)"
   ]
  },
  {
   "cell_type": "markdown",
   "metadata": {},
   "source": [
    "## Algorithm 13.8"
   ]
  },
  {
   "cell_type": "code",
   "execution_count": 61,
   "metadata": {},
   "outputs": [],
   "source": [
    "def greedy_local_search(X, m, d):\n",
    "    S = [list(X[np.random.randint(0,m)])]\n",
    "    for i in range(1,m):\n",
    "        j = np.argmin([np.infty if list(x) in S else d(X, S + [list(x)]) for x in X])\n",
    "        S.append(list(X[j]) )\n",
    "    return S"
   ]
  },
  {
   "cell_type": "markdown",
   "metadata": {},
   "source": [
    "### Example"
   ]
  },
  {
   "cell_type": "code",
   "execution_count": 63,
   "metadata": {},
   "outputs": [
    {
     "data": {
      "text/plain": [
       "[[8.4, 2.1], [2.0, 4.1], [7.2, 0.5], [1.9, 3.0]]"
      ]
     },
     "execution_count": 63,
     "metadata": {},
     "output_type": "execute_result"
    }
   ],
   "source": [
    "X = np.array([[1.0, 3.0], [2.0, 4.1], [8.4,2.1], [1.9,3.0], [7.2,0.5], [3.3, 2.9]])\n",
    "greedy_local_search(X,4,d_max)"
   ]
  },
  {
   "cell_type": "markdown",
   "metadata": {},
   "source": [
    "## Algorithm 13.9"
   ]
  },
  {
   "cell_type": "code",
   "execution_count": 26,
   "metadata": {},
   "outputs": [],
   "source": [
    "def exchange_algorithm(X, m, d):\n",
    "    ixs = list(np.random.permutation(m))\n",
    "    S = [ list(X[ix]) for ix in ixs]\n",
    "    delta, done = d(X, S), False\n",
    "    while not done:\n",
    "        best_pair = (0,0)\n",
    "        for i in range(m):\n",
    "            s = S[i]\n",
    "            for j, x in enumerate(X):\n",
    "                if list(x) not in S:\n",
    "                    S[i] = list(x)\n",
    "                    delta_prime = d(X,S)\n",
    "                    if delta_prime < delta:\n",
    "                        delta = delta_prime\n",
    "                        best_pair = (i, j)\n",
    "            S[i] = s\n",
    "    \n",
    "        done = best_pair == (0,0)\n",
    "        if not done:\n",
    "            i, j = best_pair\n",
    "            S[i] = list(X[j])\n",
    "    \n",
    "    return S"
   ]
  },
  {
   "cell_type": "markdown",
   "metadata": {},
   "source": [
    "### Example"
   ]
  },
  {
   "cell_type": "code",
   "execution_count": 27,
   "metadata": {},
   "outputs": [
    {
     "data": {
      "text/plain": [
       "[[7.2, 0.5], [8.4, 2.1], [1.9, 3.0], [3.3, 2.9]]"
      ]
     },
     "execution_count": 27,
     "metadata": {},
     "output_type": "execute_result"
    }
   ],
   "source": [
    "X = np.array([[1.0, 3.0], [2.0, 4.1], [8.4,2.1], [1.9,3.0], [7.2,0.5], [3.3, 2.9]])\n",
    "exchange_algorithm(X,4,d_max)"
   ]
  }
 ],
 "metadata": {
  "interpreter": {
   "hash": "a7cb0033f74169dc79f12061f5c27d00126b5e865c3b5dfee42ca374109fe68f"
  },
  "kernelspec": {
   "display_name": "Python 3.8.10 64-bit ('optAlgos': conda)",
   "name": "python3"
  },
  "language_info": {
   "codemirror_mode": {
    "name": "ipython",
    "version": 3
   },
   "file_extension": ".py",
   "mimetype": "text/x-python",
   "name": "python",
   "nbconvert_exporter": "python",
   "pygments_lexer": "ipython3",
   "version": "3.8.10"
  },
  "orig_nbformat": 4
 },
 "nbformat": 4,
 "nbformat_minor": 2
}
