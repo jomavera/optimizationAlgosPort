{
 "cells": [
  {
   "cell_type": "markdown",
   "metadata": {},
   "source": [
    "# Chapter 14: Surrogate Models"
   ]
  },
  {
   "cell_type": "code",
   "execution_count": 1,
   "metadata": {},
   "outputs": [],
   "source": [
    "import numpy as np\n",
    "from itertools import product\n",
    "from dataclasses import dataclass\n",
    "import matplotlib.pyplot as plt"
   ]
  },
  {
   "cell_type": "markdown",
   "metadata": {},
   "source": [
    "## Algorithm 14.1"
   ]
  },
  {
   "cell_type": "code",
   "execution_count": 54,
   "metadata": {},
   "outputs": [],
   "source": [
    "def design_matrix(X):\n",
    "    n, m = len(X[0]), len(X)\n",
    "    return np.array([ [1.0 if j == 0 else X[i][j-1] for j in range(n+1)]for i in range(m)])\n",
    "\n",
    "def linear_regression(X,y):\n",
    "    theta = np.linalg.solve(design_matrix(X),y)\n",
    "    f = lambda x: np.matmul(theta,np.array([1]+x))\n",
    "    return f"
   ]
  },
  {
   "cell_type": "markdown",
   "metadata": {},
   "source": [
    "### Example"
   ]
  },
  {
   "cell_type": "code",
   "execution_count": 55,
   "metadata": {},
   "outputs": [
    {
     "data": {
      "text/plain": [
       "3.0"
      ]
     },
     "execution_count": 55,
     "metadata": {},
     "output_type": "execute_result"
    }
   ],
   "source": [
    "X = [[2,3,4],[3,2,4],[3,4,1],[3,4,3]]\n",
    "y = [3,2,1,6]\n",
    "model = linear_regression(X,y)\n",
    "model([2,3,4])"
   ]
  },
  {
   "cell_type": "markdown",
   "metadata": {},
   "source": [
    "## Algorithm 14.2"
   ]
  },
  {
   "cell_type": "code",
   "execution_count": 95,
   "metadata": {},
   "outputs": [],
   "source": [
    "def regression(X, y, bases):\n",
    "    B =[ b(x) for x, b in product(X, bases) ]\n",
    "    theta = np.linalg.solve(B, y)\n",
    "    f = lambda x: np.sum([theta[i]*bases[i](x) for i in range(len(theta))])\n",
    "    return f"
   ]
  },
  {
   "cell_type": "markdown",
   "metadata": {},
   "source": [
    "## Algorithm 14.3"
   ]
  },
  {
   "cell_type": "code",
   "execution_count": 57,
   "metadata": {},
   "outputs": [],
   "source": [
    "def polynomial_bases_1d(i,k):\n",
    "    f = lambda x: np.power(x[i],np.arange(0,k+1,1))\n",
    "    return f\n",
    "\n",
    "def polynomial_bases(n,k):\n",
    "    bases = [ polynomial_bases_1d(i, k) for i in range(n)]\n",
    "    terms = []\n",
    "    for ks in product(*[np.arange(0,k+1) for i in range(n)]):\n",
    "        if np.sum(ks) <= k:\n",
    "            def func(x, ks=ks):\n",
    "                return np.prod([b(x)[j] for j, b in zip(ks,bases) ])\n",
    "            terms.append(func)\n",
    "\n",
    "    return terms"
   ]
  },
  {
   "cell_type": "markdown",
   "metadata": {},
   "source": [
    "### Example"
   ]
  },
  {
   "cell_type": "code",
   "execution_count": 58,
   "metadata": {},
   "outputs": [
    {
     "name": "stdout",
     "output_type": "stream",
     "text": [
      "350\n"
     ]
    }
   ],
   "source": [
    "# Test to compare Julia implementation\n",
    "models = polynomial_bases(3,3)\n",
    "sum_bases = 0\n",
    "for model in models:\n",
    "    sum_bases += model([2,3,4])\n",
    "print(sum_bases)"
   ]
  },
  {
   "cell_type": "markdown",
   "metadata": {},
   "source": [
    "## Algorithm 14.4"
   ]
  },
  {
   "cell_type": "code",
   "execution_count": 59,
   "metadata": {},
   "outputs": [],
   "source": [
    "def sinusoidal_bases_1d(j, k, a, b):\n",
    "    T= b[j] - a[j]\n",
    "    def func(x,j,T,i):\n",
    "        return np.sin(2*np.pi*i*x[j]/T)\n",
    "    funcv = np.vectorize(func,excluded=[0,1,2])\n",
    "    def func2(x,j,T,i):\n",
    "        return np.cos(2*np.pi*i*x[j]/T)\n",
    "    funcv2 = np.vectorize(func2,excluded=[0,1,2])\n",
    "\n",
    "    def func_cat(x,j=j,T=T,i=np.arange(1, k+1)):\n",
    "        return np.concatenate((funcv(x,j,T,i),funcv2(x,j,T,i)))\n",
    "\n",
    "    return func_cat\n",
    "\n",
    "def sinusoidal_bases(k, a, b):\n",
    "    n = len(a)\n",
    "    bases = [ sinusoidal_bases_1d(i, k, a, b) for i in range(n)]\n",
    "    terms = []\n",
    "    for ks in product(*[list(np.arange(0,(2*k))) for i in range(n)]):\n",
    "        powers = [(k+1)//2 for k in ks]\n",
    "        if np.sum(powers) <= k:\n",
    "            def func(x, ks=ks):\n",
    "                return np.prod([b(x)[j] for j, b in zip(ks,bases)]) \n",
    "            terms.append(func)\n",
    "\n",
    "    return terms"
   ]
  },
  {
   "cell_type": "code",
   "execution_count": 60,
   "metadata": {},
   "outputs": [
    {
     "name": "stdout",
     "output_type": "stream",
     "text": [
      "2.0818995585504995e-15\n"
     ]
    }
   ],
   "source": [
    "models = sinusoidal_bases(3,[-1,-1],[1,1])\n",
    "sum_bases = 0\n",
    "for model in models:\n",
    "    sum_bases += model([2,3])\n",
    "print(sum_bases)"
   ]
  },
  {
   "cell_type": "markdown",
   "metadata": {},
   "source": [
    "## Algorithm 14.5"
   ]
  },
  {
   "cell_type": "code",
   "execution_count": 61,
   "metadata": {},
   "outputs": [],
   "source": [
    "def radial_bases(psi, C, p=2):\n",
    "    bases = []\n",
    "    for c in C:\n",
    "        def func(x,c=c):\n",
    "            return psi(np.linalg.norm(x-c,p))\n",
    "        bases.append(func)\n",
    "    return bases"
   ]
  },
  {
   "cell_type": "markdown",
   "metadata": {},
   "source": [
    "## Algorithm 14.6"
   ]
  },
  {
   "cell_type": "code",
   "execution_count": 97,
   "metadata": {},
   "outputs": [],
   "source": [
    "def regression(X, y, bases, lamb):\n",
    "    B = np.array([[b(x) for b in bases] for x in X])\n",
    "    theta = np.linalg.solve(np.matmul(B.T,B) + np.diag(lamb*np.ones((len(bases),1))),np.matmul(B.T,y))\n",
    "    return lambda x: np.sum([theta[i]*bases[i](x) for i in range(len(theta))])"
   ]
  },
  {
   "cell_type": "markdown",
   "metadata": {},
   "source": [
    "### Example"
   ]
  },
  {
   "cell_type": "code",
   "execution_count": 63,
   "metadata": {},
   "outputs": [
    {
     "name": "stdout",
     "output_type": "stream",
     "text": [
      "1.48380802839926\n"
     ]
    }
   ],
   "source": [
    "np.random.seed(35912)\n",
    "bases = polynomial_bases(2,3)\n",
    "X = [[2,3,4],[4,3,5],[4,5,1]]\n",
    "y = np.random.rand(len(X)).reshape(-1,1)\n",
    "lmb=[0.3 for i in range(len(bases))]\n",
    "model = regression(X,y,bases,lmb)\n",
    "print(model([4,6,7]))"
   ]
  },
  {
   "cell_type": "markdown",
   "metadata": {},
   "source": [
    "## Algorithm 14.7"
   ]
  },
  {
   "cell_type": "code",
   "execution_count": 2,
   "metadata": {},
   "outputs": [],
   "source": [
    "@dataclass\n",
    "class TrainTest:\n",
    "    train: list\n",
    "    test: list\n",
    "    \n",
    "def train_and_validate(X, y, tt, fit, metric):\n",
    "    model = fit(X[tt.train], y[tt.train])\n",
    "    return metric(model, X[tt.test], y[tt.test])"
   ]
  },
  {
   "cell_type": "markdown",
   "metadata": {},
   "source": [
    "## Algorithm 14.8"
   ]
  },
  {
   "cell_type": "code",
   "execution_count": 65,
   "metadata": {},
   "outputs": [],
   "source": [
    "def holdout_partition(m, h=None):\n",
    "    if h==None:\n",
    "        h = m // 2\n",
    "    p = np.random.permutation(m)\n",
    "    train = p[h:m]\n",
    "    holdout = p[0:h]\n",
    "    return TrainTest( list(train), list(holdout) )"
   ]
  },
  {
   "cell_type": "markdown",
   "metadata": {},
   "source": [
    "## Algorithm 14.9"
   ]
  },
  {
   "cell_type": "code",
   "execution_count": 66,
   "metadata": {},
   "outputs": [],
   "source": [
    "def random_subsampling(X, y, fit, metric, h=None, k_max=10):\n",
    "    if h == None:\n",
    "        h = len(X)//2\n",
    "    m = len(X)\n",
    "    return np.mean([train_and_validate(X, y, holdout_partition(m, h), fit, metric) for k in range(k_max)])"
   ]
  },
  {
   "cell_type": "markdown",
   "metadata": {},
   "source": [
    "## Algorithm 14.10"
   ]
  },
  {
   "cell_type": "code",
   "execution_count": 67,
   "metadata": {},
   "outputs": [],
   "source": [
    "def k_fold_cross_validation_sets(m, k):\n",
    "    perm = np.random.permutation(m)\n",
    "    sets = []\n",
    "    for i in range(k):\n",
    "        validate = perm[i:m:k]\n",
    "        train = perm[np.setdiff1d(np.arange(i,m),np.arange(i,m,k))]\n",
    "        sets.append(TrainTest(train, validate))\n",
    "    return sets\n",
    "\n",
    "def cross_validation_estimate(X, y, sets, fit, metric):\n",
    "    return np.mean([train_and_validate(X, y, tt, fit, metric) for tt in sets])"
   ]
  },
  {
   "cell_type": "markdown",
   "metadata": {},
   "source": [
    "## Example 14.2"
   ]
  },
  {
   "cell_type": "code",
   "execution_count": 117,
   "metadata": {},
   "outputs": [],
   "source": [
    "np.random.seed(0)\n",
    "f = lambda x:np.sin(2*x)*np.cos(10*x)\n",
    "\n",
    "# ---- Data generated in Julia with seed 0 to resemble results from book ---- #\n",
    "X = np.array([0.8236475079774124, \n",
    "0.9103565379264364, \n",
    "0.16456579813368521, \n",
    "0.17732884646626457, \n",
    "0.278880109331201, \n",
    "0.20347655804192266,\n",
    "0.042301665932029664,\n",
    "0.06826925550564478,\n",
    "0.3618283907762174,\n",
    "0.9732164043865108]).reshape(-1,1)\n",
    "y =np.array([ -0.4410340396417118,\n",
    " -0.9956556536332956,\n",
    "  0.015573949795123155,\n",
    "  0.01132320974198503,\n",
    " -0.5313248333867803,\n",
    " -0.19588413875990168,\n",
    " -0.08367168413613427,\n",
    " -0.14247105758074852,\n",
    " -0.3606906314525021,\n",
    " -0.8647008769320896]).reshape(-1,1)\n",
    "\n",
    "# ------------------------------------------- #\n",
    "\n",
    "\n",
    "sets = k_fold_cross_validation_sets(X.shape[0],3)\n",
    "\n",
    "def metric(f, X, y):\n",
    "    m = X.shape[0]\n",
    "    return np.sum([(f(X[i])-y[i])**2 for i in range(m)])/m\n",
    "\n",
    "lambda_s = 10**np.linspace(-4,2,101, dtype=np.float64)\n",
    "es = []\n",
    "basis = lambda r: np.exp(-5*r**2)\n",
    "for lambd in lambda_s:\n",
    "    def fit(X,y,lambd=lambd):\n",
    "        bases = radial_bases(basis,X)\n",
    "        return regression(X, y, bases, lambd)\n",
    "    es.append(cross_validation_estimate(X, y, sets, fit, metric))"
   ]
  },
  {
   "cell_type": "code",
   "execution_count": 118,
   "metadata": {},
   "outputs": [
    {
     "data": {
      "text/plain": [
       "[<matplotlib.lines.Line2D at 0x7ff5f8761c40>]"
      ]
     },
     "execution_count": 118,
     "metadata": {},
     "output_type": "execute_result"
    },
    {
     "data": {
      "image/png": "[encoded data removed]",
      "text/plain": [
       "<Figure size 432x288 with 1 Axes>"
      ]
     },
     "metadata": {
      "needs_background": "light"
     },
     "output_type": "display_data"
    }
   ],
   "source": [
    "plt.semilogx(lambda_s,es)"
   ]
  },
  {
   "cell_type": "markdown",
   "metadata": {},
   "source": [
    "## Algorithm 14.11"
   ]
  },
  {
   "cell_type": "code",
   "execution_count": 3,
   "metadata": {},
   "outputs": [],
   "source": [
    "def bootstrap_sets(m, b):\n",
    "    return [TrainTest(np.random.randint(0,m,size=m),np.arange(0,m)) for i in range(b)]"
   ]
  },
  {
   "cell_type": "markdown",
   "metadata": {},
   "source": [
    "## Algorithm 14.12"
   ]
  },
  {
   "cell_type": "code",
   "execution_count": null,
   "metadata": {},
   "outputs": [],
   "source": [
    "def bootstrap_estimate(X, y, sets, fit, metric):\n",
    "    return np.mean([train_and_validate(X, y, tt, fit, metric) for tt in sets])"
   ]
  },
  {
   "cell_type": "markdown",
   "metadata": {},
   "source": [
    "## Algorithm 14.13"
   ]
  },
  {
   "cell_type": "code",
   "execution_count": null,
   "metadata": {},
   "outputs": [],
   "source": [
    "def leave_one_out_bootstrap_estimate(X, y, sets, fit, metric):\n",
    "    m, b = len(X), len(sets)\n",
    "    epsilon = 0.0\n",
    "    models = [fit(X[tt.train], y[tt.train]) for tt in sets]\n",
    "    for j in range(m):\n",
    "        c = 0\n",
    "        delta = 0.0\n",
    "        for i in range(b):\n",
    "            if j not in sets[i].train:\n",
    "                c += 1\n",
    "                delta += metric(models[i], np.array([X[j]]), np.array([y[j]]) )\n",
    "        epsilon += delta/c\n",
    "    \n",
    "    return epsilon/m"
   ]
  },
  {
   "cell_type": "markdown",
   "metadata": {},
   "source": [
    "## Algorithm 14.14"
   ]
  },
  {
   "cell_type": "code",
   "execution_count": null,
   "metadata": {},
   "outputs": [],
   "source": [
    "def bootstrap_632_esimate(X, y, sets, fit, metric):\n",
    "    models = [fit(X[tt.train], y[tt.train]) for tt in sets]\n",
    "    epsilon_loob = leave_one_out_bootstrap_estimate(X, y, sets, fit, metric)\n",
    "    epsilon_boot = bootstrap_estimate(X, y, sets, fit, metric)\n",
    "    return 0.632*epsilon_loob + 0.368*epsilon_boot"
   ]
  }
 ],
 "metadata": {
  "interpreter": {
   "hash": "a7cb0033f74169dc79f12061f5c27d00126b5e865c3b5dfee42ca374109fe68f"
  },
  "kernelspec": {
   "display_name": "Python 3.8.10 64-bit ('optAlgos': conda)",
   "language": "python",
   "name": "python3"
  },
  "language_info": {
   "codemirror_mode": {
    "name": "ipython",
    "version": 3
   },
   "file_extension": ".py",
   "mimetype": "text/x-python",
   "name": "python",
   "nbconvert_exporter": "python",
   "pygments_lexer": "ipython3",
   "version": "3.8.10"
  },
  "orig_nbformat": 4
 },
 "nbformat": 4,
 "nbformat_minor": 2
}
