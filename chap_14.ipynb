{
 "cells": [
  {
   "cell_type": "markdown",
   "metadata": {},
   "source": [
    "# Chapter 14: Surrogate Models"
   ]
  },
  {
   "cell_type": "code",
   "execution_count": 3,
   "metadata": {},
   "outputs": [],
   "source": [
    "import numpy as np\n",
    "from itertools import product"
   ]
  },
  {
   "cell_type": "markdown",
   "metadata": {},
   "source": [
    "## Algorithm 14.1"
   ]
  },
  {
   "cell_type": "code",
   "execution_count": 61,
   "metadata": {},
   "outputs": [],
   "source": [
    "def design_matrix(X):\n",
    "    n, m = len(X[0]), len(X)\n",
    "    return np.array([ [1.0 if j == 0 else X[i][j-1] for j in range(n+1)]for i in range(m)])\n",
    "\n",
    "def linear_regression(X,y):\n",
    "    theta = np.linalg.solve(design_matrix(X),y)\n",
    "    f = lambda x: np.matmul(theta,np.array([1]+x))\n",
    "    return f"
   ]
  },
  {
   "cell_type": "markdown",
   "metadata": {},
   "source": [
    "### Example"
   ]
  },
  {
   "cell_type": "code",
   "execution_count": 64,
   "metadata": {},
   "outputs": [
    {
     "name": "stdout",
     "output_type": "stream",
     "text": [
      "[-21.25   2.25   3.25   2.5 ]\n"
     ]
    },
    {
     "data": {
      "text/plain": [
       "3.0"
      ]
     },
     "execution_count": 64,
     "metadata": {},
     "output_type": "execute_result"
    }
   ],
   "source": [
    "X = [[2,3,4],[3,2,4],[3,4,1],[3,4,3]]\n",
    "y = [3,2,1,6]\n",
    "model = linear_regression(X,y)\n",
    "model([2,3,4])"
   ]
  },
  {
   "cell_type": "markdown",
   "metadata": {},
   "source": [
    "## Algorithm 14.2"
   ]
  },
  {
   "cell_type": "code",
   "execution_count": null,
   "metadata": {},
   "outputs": [],
   "source": [
    "from itertools import product\n",
    "def regression(X,y, bases):\n",
    "    B =[ b(x) for x, b in product(X, bases) ]\n",
    "    theta = np.linalg.solve(B, y)\n",
    "    f = lambda x: np.sum([theta[i]*bases[i](x) for i in range(len(theta))])\n",
    "    return f"
   ]
  },
  {
   "cell_type": "markdown",
   "metadata": {},
   "source": [
    "## Algorithm 14.3"
   ]
  },
  {
   "cell_type": "code",
   "execution_count": 38,
   "metadata": {},
   "outputs": [],
   "source": [
    "def polynomial_bases_1d(i,k):\n",
    "    f = lambda x: np.power(x[i],np.arange(0,k+1,1))\n",
    "    return f\n",
    "\n",
    "def polynomial_bases(n,k):\n",
    "    bases = [ polynomial_bases_1d(i, k) for i in range(n)]\n",
    "    terms = []\n",
    "    for ks in product(*[np.arange(0,k+1) for i in range(n)]):\n",
    "        if np.sum(ks) <= k:\n",
    "            def func(x, ks=ks):\n",
    "                return np.prod([b(x)[j] for j, b in zip(ks,bases) ])\n",
    "            terms.append(func)\n",
    "\n",
    "    return terms"
   ]
  },
  {
   "cell_type": "markdown",
   "metadata": {},
   "source": [
    "### Example"
   ]
  },
  {
   "cell_type": "code",
   "execution_count": 40,
   "metadata": {},
   "outputs": [
    {
     "name": "stdout",
     "output_type": "stream",
     "text": [
      "350\n"
     ]
    }
   ],
   "source": [
    "# Test to compare Julia implementation\n",
    "models = polynomial_bases(3,3)\n",
    "sum_bases = 0\n",
    "for model in models:\n",
    "    sum_bases += model([2,3,4])\n",
    "print(sum_bases)"
   ]
  },
  {
   "cell_type": "markdown",
   "metadata": {},
   "source": [
    "## Algorithm 14.4"
   ]
  },
  {
   "cell_type": "code",
   "execution_count": 49,
   "metadata": {},
   "outputs": [],
   "source": [
    "def sinusoidal_bases_1d(j, k, a, b):\n",
    "    T= b[j] - a[j]\n",
    "    def func(x,j,T,i):\n",
    "        return np.sin(2*np.pi*i*x[j]/T)\n",
    "    funcv = np.vectorize(func,excluded=[0,1,2])\n",
    "    def func2(x,j,T,i):\n",
    "        return np.cos(2*np.pi*i*x[j]/T)\n",
    "    funcv2 = np.vectorize(func2,excluded=[0,1,2])\n",
    "\n",
    "    def func_cat(x,j=j,T=T,i=np.arange(1, k+1)):\n",
    "        return np.concatenate((funcv(x,j,T,i),funcv2(x,j,T,i)))\n",
    "\n",
    "    return func_cat\n",
    "\n",
    "def sinusoidal_bases(k, a, b):\n",
    "    n = len(a)\n",
    "    bases = [ sinusoidal_bases_1d(i, k, a, b) for i in range(n)]\n",
    "    terms = []\n",
    "    for ks in product(*[list(np.arange(0,(2*k))) for i in range(n)]):\n",
    "        powers = [(k+1)//2 for k in ks]\n",
    "        if np.sum(powers) <= k:\n",
    "            def func(x, ks=ks):\n",
    "                return np.prod([b(x)[j] for j, b in zip(ks,bases)]) \n",
    "            terms.append(func)\n",
    "\n",
    "    return terms"
   ]
  },
  {
   "cell_type": "code",
   "execution_count": 50,
   "metadata": {},
   "outputs": [
    {
     "name": "stdout",
     "output_type": "stream",
     "text": [
      "2.0818995585504995e-15\n"
     ]
    }
   ],
   "source": [
    "models = sinusoidal_bases(3,[-1,-1],[1,1])\n",
    "sum_bases = 0\n",
    "for model in models:\n",
    "    sum_bases += model([2,3])\n",
    "print(sum_bases)"
   ]
  },
  {
   "cell_type": "markdown",
   "metadata": {},
   "source": [
    "## Algorithm 14.5"
   ]
  },
  {
   "cell_type": "code",
   "execution_count": null,
   "metadata": {},
   "outputs": [],
   "source": [
    "def radial_bases(psi, C, p=2):\n",
    "    bases = []\n",
    "    for c in C:\n",
    "        def func(x,c=c):\n",
    "            return psi(np.linalg.norm(x-c,p))\n",
    "        bases.append(func)\n",
    "    return bases"
   ]
  }
 ],
 "metadata": {
  "interpreter": {
   "hash": "a7cb0033f74169dc79f12061f5c27d00126b5e865c3b5dfee42ca374109fe68f"
  },
  "kernelspec": {
   "display_name": "Python 3.8.10 64-bit ('optAlgos': conda)",
   "language": "python",
   "name": "python3"
  },
  "language_info": {
   "codemirror_mode": {
    "name": "ipython",
    "version": 3
   },
   "file_extension": ".py",
   "mimetype": "text/x-python",
   "name": "python",
   "nbconvert_exporter": "python",
   "pygments_lexer": "ipython3",
   "version": "3.8.10"
  },
  "orig_nbformat": 4
 },
 "nbformat": 4,
 "nbformat_minor": 2
}
