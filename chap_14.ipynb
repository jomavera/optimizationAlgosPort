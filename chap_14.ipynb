{
 "cells": [
  {
   "cell_type": "markdown",
   "metadata": {},
   "source": [
    "# Chapter 14: Surrogate Models"
   ]
  },
  {
   "cell_type": "code",
   "execution_count": 17,
   "metadata": {},
   "outputs": [],
   "source": [
    "import numpy as np"
   ]
  },
  {
   "cell_type": "markdown",
   "metadata": {},
   "source": [
    "## Algorithm 14.1"
   ]
  },
  {
   "cell_type": "code",
   "execution_count": 61,
   "metadata": {},
   "outputs": [],
   "source": [
    "def design_matrix(X):\n",
    "    n, m = len(X[0]), len(X)\n",
    "    return np.array([ [1.0 if j == 0 else X[i][j-1] for j in range(n+1)]for i in range(m)])\n",
    "\n",
    "def linear_regression(X,y):\n",
    "    theta = np.linalg.solve(design_matrix(X),y)\n",
    "    f = lambda x: np.matmul(theta,np.array([1]+x))\n",
    "    return f"
   ]
  },
  {
   "cell_type": "markdown",
   "metadata": {},
   "source": [
    "### Example"
   ]
  },
  {
   "cell_type": "code",
   "execution_count": 64,
   "metadata": {},
   "outputs": [
    {
     "name": "stdout",
     "output_type": "stream",
     "text": [
      "[-21.25   2.25   3.25   2.5 ]\n"
     ]
    },
    {
     "data": {
      "text/plain": [
       "3.0"
      ]
     },
     "execution_count": 64,
     "metadata": {},
     "output_type": "execute_result"
    }
   ],
   "source": [
    "X = [[2,3,4],[3,2,4],[3,4,1],[3,4,3]]\n",
    "y = [3,2,1,6]\n",
    "model = linear_regression(X,y)\n",
    "model([2,3,4])"
   ]
  }
 ],
 "metadata": {
  "interpreter": {
   "hash": "a7cb0033f74169dc79f12061f5c27d00126b5e865c3b5dfee42ca374109fe68f"
  },
  "kernelspec": {
   "display_name": "Python 3.8.10 64-bit ('optAlgos': conda)",
   "language": "python",
   "name": "python3"
  },
  "language_info": {
   "codemirror_mode": {
    "name": "ipython",
    "version": 3
   },
   "file_extension": ".py",
   "mimetype": "text/x-python",
   "name": "python",
   "nbconvert_exporter": "python",
   "pygments_lexer": "ipython3",
   "version": "3.8.10"
  },
  "orig_nbformat": 4
 },
 "nbformat": 4,
 "nbformat_minor": 2
}
