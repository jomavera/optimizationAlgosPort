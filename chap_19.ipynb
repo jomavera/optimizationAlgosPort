{
 "cells": [
  {
   "cell_type": "markdown",
   "metadata": {},
   "source": [
    "# Chapter 19: Discrete Optimization"
   ]
  },
  {
   "cell_type": "code",
   "execution_count": 1,
   "metadata": {},
   "outputs": [],
   "source": [
    "import math\n",
    "import numpy as np\n",
    "from dataclasses import dataclass\n",
    "from multipledispatch import dispatch\n",
    "from itertools import combinations"
   ]
  },
  {
   "cell_type": "markdown",
   "metadata": {},
   "source": [
    "## Algorithm 19.1"
   ]
  },
  {
   "cell_type": "code",
   "execution_count": 2,
   "metadata": {},
   "outputs": [],
   "source": [
    "@dataclass\n",
    "class MixedIntegerProgram:\n",
    "    A: np.ndarray\n",
    "    b: np.ndarray\n",
    "    c: np.ndarray\n",
    "    D: list"
   ]
  },
  {
   "cell_type": "markdown",
   "metadata": {},
   "source": [
    "## Algorithm 19.2"
   ]
  },
  {
   "cell_type": "code",
   "execution_count": 3,
   "metadata": {},
   "outputs": [],
   "source": [
    "relax = lambda MIP: LinearProgram(MIP.A, MIP.b, MIP.c) # from algorithm 11.1\n",
    "def round_ip(MIP):\n",
    "    x = minimize_lp_init(relax(MIP)) # from algorithm 11.5\n",
    "    for i in MIP.D:\n",
    "        x[i] = int(x[i])\n",
    "    return x"
   ]
  },
  {
   "cell_type": "markdown",
   "metadata": {},
   "source": [
    "## Algorithm 19.3"
   ]
  },
  {
   "cell_type": "code",
   "execution_count": 4,
   "metadata": {},
   "outputs": [],
   "source": [
    "isint = lambda x, epsilon=1e-10 : abs(round(x)-x) <= epsilon\n",
    "@dispatch(np.ndarray)\n",
    "def is_totally_unimodular(A):\n",
    "    if np.any([a not in [0,-1,1] for a in A.reshape(-1,)]):\n",
    "        return False\n",
    "    r, c = A.shape\n",
    "    for i in range(min([r,c])):\n",
    "        for a in list(combinations(np.arange(0,r,1),i+1)):\n",
    "            for b in list(combinations(np.arange(0,c),i+1)):\n",
    "                B = A[np.ix_(list(a), list(b))]\n",
    "                if np.linalg.det(B) not in [0,-1,1]:\n",
    "                    return False\n",
    "    return True\n",
    "\n",
    "@dispatch(MixedIntegerProgram)\n",
    "def is_totally_unimodular(MIP):\n",
    "    return is_totally_unimodular(MIP.A) and np.all(isint(MIP.b)) and np.all(isint(MIP.c))"
   ]
  },
  {
   "cell_type": "markdown",
   "metadata": {},
   "source": [
    "### Example"
   ]
  },
  {
   "cell_type": "code",
   "execution_count": 5,
   "metadata": {},
   "outputs": [
    {
     "name": "stdout",
     "output_type": "stream",
     "text": [
      "1st Matrix is unimodular? -> False\n",
      "2nd Matrix is unimodular? -> True\n",
      "3rd Matrix is unimodular? -> True\n"
     ]
    }
   ],
   "source": [
    "A_1 = np.array([\n",
    "    [1, 0, 1],\n",
    "    [0,0,0],\n",
    "    [1, 0, -1]\n",
    "])\n",
    "\n",
    "print(f\"1st Matrix is unimodular? -> {is_totally_unimodular(A_1)}\")\n",
    "\n",
    "A_2 = np.array([\n",
    "    [1, 0, 1],\n",
    "    [0,0,0],\n",
    "    [1, 0, 0]\n",
    "])\n",
    "\n",
    "print(f\"2nd Matrix is unimodular? -> {is_totally_unimodular(A_2)}\")\n",
    "\n",
    "A_3 = np.array([\n",
    "    [-1, -1, 0, 0, 0],\n",
    "    [1, 0, -1, -1, 0],\n",
    "    [0, 1, 1, 0, -1]\n",
    "])\n",
    "\n",
    "print(f\"3rd Matrix is unimodular? -> {is_totally_unimodular(A_3)}\")\n"
   ]
  },
  {
   "cell_type": "markdown",
   "metadata": {},
   "source": [
    "## Algorithm 19.4"
   ]
  },
  {
   "cell_type": "code",
   "execution_count": 6,
   "metadata": {},
   "outputs": [],
   "source": [
    "frac = lambda x: math.modf(x)[0]\n",
    "def cutting_plane(MIP):\n",
    "    LP = relax(MIP)\n",
    "    x, b_inds, v_inds = minimize_lp_init(LP) # from algorithm 11.5\n",
    "    n_orig = len(x)\n",
    "    D= MIP.D\n",
    "    while not np.all([isint(x[i]) for i in D ]):\n",
    "        AB, AV = LP.A[:, b_inds], LP.A[:, v_inds]\n",
    "        Abar = np.linalg.solve(AB, AV)\n",
    "        b = -1\n",
    "        for i in D:\n",
    "            if not isint(x[i]):\n",
    "                b += 1\n",
    "                A2 = np.concatenate((\n",
    "                    np.concatenate((LP.A, np.zeros((LP.A.shape[0],1))),axis=1),\n",
    "                    np.zeros((1, LP.A.shape[1]+1))\n",
    "                ), axis=0)\n",
    "                A2[-1, -1]= 1\n",
    "                A2[-1, v_inds] = list(map(lambda x: np.floor(x) -x, Abar[b, :]))\n",
    "                b2 = np.concatenate((LP.b, -np.array([frac(x[i])]).reshape(1,-1)),axis=0)\n",
    "                c2 = np.concatenate((LP.c, np.array([[0]]) ), axis=0)\n",
    "                LP = LinearProgram(A2,b2,c2)  # from algorithm 11.1\n",
    "        x, b_inds, v_inds = minimize_lp_init(LP)\n",
    "    return x[:n_orig]"
   ]
  },
  {
   "cell_type": "markdown",
   "metadata": {},
   "source": [
    "### Example"
   ]
  },
  {
   "cell_type": "markdown",
   "metadata": {},
   "source": [
    "#### Code from chapter 11"
   ]
  },
  {
   "cell_type": "code",
   "execution_count": 7,
   "metadata": {},
   "outputs": [],
   "source": [
    "@dataclass\n",
    "class LinearProgram:\n",
    "    A : np.ndarray\n",
    "    b: np.ndarray\n",
    "    c: np.ndarray\n",
    "\n",
    "def minimize_lp(B, LP):\n",
    "    done = False\n",
    "    while not done:\n",
    "        B, done = step_lp(B, LP)\n",
    "    return B\n",
    "\n",
    "def step_lp(B, LP):\n",
    "    A, b, c = LP.A, LP.b, LP.c\n",
    "    n = A.shape[1]\n",
    "    b_inds = np.sort(np.array(B)-1)\n",
    "    n_inds = np.sort(np.setdiff1d(np.arange(0,n,1), np.array(B)-1))\n",
    "    \n",
    "    AB, AV = A[:, b_inds], A[:, n_inds]\n",
    "\n",
    "    xB = np.linalg.solve(AB, b)\n",
    "    cB = c[b_inds,:]\n",
    "    lambda_ = np.linalg.solve(AB.T, cB)\n",
    "    cV = c[n_inds]\n",
    "    muV = cV - np.matmul(AV.T, lambda_)\n",
    "\n",
    "    q, p, xq_prime, delta = -1, 0, np.infty, np.infty\n",
    "    for i in range(len(muV)):\n",
    "        if muV[i] < 0:\n",
    "            pi, xi_prime = edge_transition(LP, B, i+1)\n",
    "            if np.matmul(muV[i],xi_prime) < delta:\n",
    "                q, p, xq_prime, delta = i+1, pi, xi_prime, np.matmul(muV[i],xi_prime)\n",
    "\n",
    "    if q == -1:\n",
    "        return B, True\n",
    "    \n",
    "    if xq_prime == np.infty:\n",
    "        raise ValueError(\"unbounded\")\n",
    "    \n",
    "    j = np.argmax(B == b_inds[p]+1)\n",
    "    B[j] = n_inds[q-1] +1\n",
    "    return B, False\n",
    "\n",
    "def edge_transition(LP, B, q):\n",
    "    A, b, c = LP.A, LP.b, LP.c\n",
    "    n = A.shape[1]\n",
    "    b_inds = np.sort(np.array(B)-1)\n",
    "    n_inds = np.sort(np.setdiff1d(np.arange(0,n,1), np.array(B)-1))\n",
    "    AB = A[:, b_inds]\n",
    "    d, xB = np.linalg.solve(AB, A[:, n_inds[q-1]]), np.linalg.solve(AB, b)\n",
    " \n",
    "    p, xq_prime = 0, np.infty\n",
    "\n",
    "    for i in range(len(d)):\n",
    "        if d[i] > 0:\n",
    "            v = xB[i,:]/d[i]\n",
    "            if v < xq_prime:\n",
    "                p, xq_prime = i, v\n",
    "    \n",
    "    return p, xq_prime\n",
    "\n",
    "#-#-#-# This function needed to be changed to be consistent with algo 19.4 #-#-#-#\n",
    "def minimize_lp_init(LP):\n",
    "    A, b, c = LP.A, LP.b, LP.c\n",
    "    m, n = A.shape\n",
    "    z = np.ones((m,1))\n",
    "    Z = np.diag([1 if i >=0 else -1 for i in b])\n",
    "\n",
    "    A_prime = np.concatenate((A,Z),axis=1)\n",
    "    b_prime = b\n",
    "    c_prime = np.concatenate((np.zeros((n,1)),z),axis=0)\n",
    "\n",
    "    LP_init = LinearProgram(A_prime, b_prime, c_prime)\n",
    "    B = np.arange(n+1, m+n+1,1)\n",
    "    B = minimize_lp(B, LP_init)\n",
    "\n",
    "    if np.any([True if i > n else False for i in B]):\n",
    "        print(\"infeasible\")\n",
    "\n",
    "    return get_vertex(B, LP_init, n)\n",
    "\n",
    "#-#-#-# This function needed to be changed to be consistent with algo 19.4 #-#-#-#\n",
    "def get_vertex(B, LP, n):\n",
    "    A, b, c = LP.A, LP.b, LP.c\n",
    "    b_inds = np.sort(np.array(B)-1)\n",
    "    AB = A[:, b_inds]\n",
    "    xB = np.linalg.solve(AB, b)\n",
    "    x = np.zeros(len(c))\n",
    "    x[b_inds] = xB.reshape(-1,)\n",
    "\n",
    "    return x[:n], [v for v in b_inds if v in range(n)], [v for v in range(n) if v not in b_inds]"
   ]
  },
  {
   "cell_type": "markdown",
   "metadata": {},
   "source": [
    "#### Example 19.3"
   ]
  },
  {
   "cell_type": "code",
   "execution_count": 8,
   "metadata": {},
   "outputs": [
    {
     "data": {
      "text/plain": [
       "array([1., 2., 3.])"
      ]
     },
     "execution_count": 8,
     "metadata": {},
     "output_type": "execute_result"
    }
   ],
   "source": [
    "A = np.array([\n",
    "    [0.5, -0.5, 1.0],\n",
    "    [2.0, 0.5, -1.5]\n",
    "])\n",
    "b = np.array([[2.5], [-1.5]])\n",
    "c = np.array([[2], [1], [3]])\n",
    "D = [0, 1, 2]\n",
    "MIP = MixedIntegerProgram (A, b, c, D)\n",
    "cutting_plane(MIP)"
   ]
  }
 ],
 "metadata": {
  "interpreter": {
   "hash": "a7cb0033f74169dc79f12061f5c27d00126b5e865c3b5dfee42ca374109fe68f"
  },
  "kernelspec": {
   "display_name": "Python 3.8.10 ('optAlgos')",
   "language": "python",
   "name": "python3"
  },
  "language_info": {
   "codemirror_mode": {
    "name": "ipython",
    "version": 3
   },
   "file_extension": ".py",
   "mimetype": "text/x-python",
   "name": "python",
   "nbconvert_exporter": "python",
   "pygments_lexer": "ipython3",
   "version": "3.8.5"
  },
  "orig_nbformat": 4
 },
 "nbformat": 4,
 "nbformat_minor": 2
}
