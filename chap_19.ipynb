{
 "cells": [
  {
   "cell_type": "markdown",
   "metadata": {},
   "source": [
    "# Chapter 19: Discrete Optimization"
   ]
  },
  {
   "cell_type": "code",
   "execution_count": 23,
   "metadata": {},
   "outputs": [],
   "source": [
    "import numpy as np\n",
    "from dataclasses import dataclass\n",
    "from multipledispatch import dispatch\n",
    "from itertools import combinations"
   ]
  },
  {
   "cell_type": "markdown",
   "metadata": {},
   "source": [
    "## Algorithm 19.1"
   ]
  },
  {
   "cell_type": "code",
   "execution_count": 25,
   "metadata": {},
   "outputs": [],
   "source": [
    "@dataclass\n",
    "class MixedIntegerProgram:\n",
    "    A: np.ndarray\n",
    "    b: list\n",
    "    c: list\n",
    "    D: np.ndarray"
   ]
  },
  {
   "cell_type": "markdown",
   "metadata": {},
   "source": [
    "## Algorithm 19.2"
   ]
  },
  {
   "cell_type": "code",
   "execution_count": 6,
   "metadata": {},
   "outputs": [],
   "source": [
    "relax = lambda MIP: LinearProgram(MIP.A, MIP.b, MIP.c) # from algorithm 11.1\n",
    "def round_ip(MIP):\n",
    "    x = minimize_lp_init(relax(MIP)) # from algorithm 11.5\n",
    "    for i in MIP.D:\n",
    "        x[i] = int(x[i])\n",
    "    return x"
   ]
  },
  {
   "cell_type": "markdown",
   "metadata": {},
   "source": [
    "## Algorithm 19.3"
   ]
  },
  {
   "cell_type": "code",
   "execution_count": 63,
   "metadata": {},
   "outputs": [],
   "source": [
    "isint = lambda x, epsilon=1e-10 : abs(round(x)-x) <= epsilon\n",
    "@dispatch(np.ndarray)\n",
    "def is_totally_unimodular(A):\n",
    "    if np.any([a not in [0,-1,1] for a in A.reshape(-1,)]):\n",
    "        return False\n",
    "    r, c = A.shape\n",
    "    for i in range(min([r,c])):\n",
    "        for a in list(combinations(np.arange(0,r,1),i+1)):\n",
    "            for b in list(combinations(np.arange(0,c),i+1)):\n",
    "                B = A[np.ix_(list(a), list(b))]\n",
    "                if np.linalg.det(B) not in [0,-1,1]:\n",
    "                    return False\n",
    "    return True\n",
    "\n",
    "@dispatch(MixedIntegerProgram)\n",
    "def is_totally_unimodular(MIP):\n",
    "    return is_totally_unimodular(MIP.A) and np.all(isint(MIP.b)) and np.all(isint(MIP.c))"
   ]
  },
  {
   "cell_type": "markdown",
   "metadata": {},
   "source": [
    "### Example"
   ]
  },
  {
   "cell_type": "code",
   "execution_count": 64,
   "metadata": {},
   "outputs": [
    {
     "name": "stdout",
     "output_type": "stream",
     "text": [
      "1st Matrix is unimodular? -> False\n",
      "2nd Matrix is unimodular? -> True\n",
      "3rd Matrix is unimodular? -> True\n"
     ]
    }
   ],
   "source": [
    "A_1 = np.array([\n",
    "    [1, 0, 1],\n",
    "    [0,0,0],\n",
    "    [1, 0, -1]\n",
    "])\n",
    "\n",
    "print(f\"1st Matrix is unimodular? -> {is_totally_unimodular(A_1)}\")\n",
    "\n",
    "A_2 = np.array([\n",
    "    [1, 0, 1],\n",
    "    [0,0,0],\n",
    "    [1, 0, 0]\n",
    "])\n",
    "\n",
    "print(f\"2nd Matrix is unimodular? -> {is_totally_unimodular(A_2)}\")\n",
    "\n",
    "A_3 = np.array([\n",
    "    [-1, -1, 0, 0, 0],\n",
    "    [1, 0, -1, -1, 0],\n",
    "    [0, 1, 1, 0, -1]\n",
    "])\n",
    "\n",
    "print(f\"3rd Matrix is unimodular? -> {is_totally_unimodular(A_3)}\")\n"
   ]
  },
  {
   "cell_type": "code",
   "execution_count": null,
   "metadata": {},
   "outputs": [],
   "source": []
  }
 ],
 "metadata": {
  "interpreter": {
   "hash": "a7cb0033f74169dc79f12061f5c27d00126b5e865c3b5dfee42ca374109fe68f"
  },
  "kernelspec": {
   "display_name": "Python 3.8.10 ('optAlgos')",
   "language": "python",
   "name": "python3"
  },
  "language_info": {
   "codemirror_mode": {
    "name": "ipython",
    "version": 3
   },
   "file_extension": ".py",
   "mimetype": "text/x-python",
   "name": "python",
   "nbconvert_exporter": "python",
   "pygments_lexer": "ipython3",
   "version": "3.8.5"
  },
  "orig_nbformat": 4
 },
 "nbformat": 4,
 "nbformat_minor": 2
}
