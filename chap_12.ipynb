{
 "cells": [
  {
   "cell_type": "markdown",
   "source": [
    "# Chapter 12: Multiobjective Optimization"
   ],
   "metadata": {}
  },
  {
   "cell_type": "code",
   "execution_count": 1,
   "source": [
    "import numpy as np\n",
    "from scipy.optimize import minimize\n",
    "import matplotlib.pyplot as plt"
   ],
   "outputs": [],
   "metadata": {}
  },
  {
   "cell_type": "markdown",
   "source": [
    "## Algorithm 12.1"
   ],
   "metadata": {}
  },
  {
   "cell_type": "code",
   "execution_count": 8,
   "source": [
    "def dominates(y, y_prime):\n",
    "    return np.all(np.where(y <= y_prime, True, False)) and np.any(np.where(y < y_prime,True, False))"
   ],
   "outputs": [],
   "metadata": {}
  },
  {
   "cell_type": "markdown",
   "source": [
    "## Algorithm 12.2"
   ],
   "metadata": {}
  },
  {
   "cell_type": "code",
   "execution_count": null,
   "source": [
    "def naive_pareto(xs, ys):\n",
    "    pareto_xs, pareto_ys = np.zeros_like(xs), np.zeros_like(ys)\n",
    "    for x, y in zip(xs, ys):\n",
    "        if not np.any([dominates(y_prime, y) for y_prime in ys]):\n",
    "            pareto_xs = np.append(pareto_xs, x)\n",
    "            pareto_ys = np.append(pareto_ys, y)\n",
    "    \n",
    "    return pareto_xs, pareto_ys"
   ],
   "outputs": [],
   "metadata": {}
  },
  {
   "cell_type": "markdown",
   "source": [
    "## Algorithm 12.3"
   ],
   "metadata": {}
  },
  {
   "cell_type": "code",
   "execution_count": 21,
   "source": [
    "def weight_pareto(f1, f2, npts):\n",
    "    return [ minimize(lambda x: w1*f1(x)+(1-w1)*f2(x), 1) for w1 in np.arange(0,1,npts)]"
   ],
   "outputs": [],
   "metadata": {}
  },
  {
   "cell_type": "markdown",
   "source": [
    "### Example"
   ],
   "metadata": {}
  },
  {
   "cell_type": "code",
   "execution_count": 32,
   "source": [
    "f1 = lambda x:-x**2 - .3*x**2 - x\n",
    "f2 = lambda x: x + .01*x**3\n",
    "\n",
    "npts = 0.01\n",
    "\n",
    "points = weight_pareto(f1,f2, npts)\n",
    "\n",
    "xs = [f1(p.x) for p in points]\n",
    "ys = [f2(p.x) for p in points]\n",
    "\n",
    "plt.plot(xs,ys)\n",
    "plt.xlabel(f\"$f_1(x)$\")\n",
    "plt.ylabel(f\"$f_2(x)$\")"
   ],
   "outputs": [
    {
     "output_type": "execute_result",
     "data": {
      "text/plain": [
       "Text(0, 0.5, '$f_2(x)$')"
      ]
     },
     "metadata": {},
     "execution_count": 32
    },
    {
     "output_type": "display_data",
     "data": {
      "image/png": "[encoded data removed]",
      "text/plain": [
       "<Figure size 432x288 with 1 Axes>"
      ]
     },
     "metadata": {
      "needs_background": "light"
     }
    }
   ],
   "metadata": {}
  },
  {
   "cell_type": "code",
   "execution_count": null,
   "source": [],
   "outputs": [],
   "metadata": {}
  }
 ],
 "metadata": {
  "orig_nbformat": 4,
  "language_info": {
   "name": "python",
   "version": "3.8.10",
   "mimetype": "text/x-python",
   "codemirror_mode": {
    "name": "ipython",
    "version": 3
   },
   "pygments_lexer": "ipython3",
   "nbconvert_exporter": "python",
   "file_extension": ".py"
  },
  "kernelspec": {
   "name": "python3",
   "display_name": "Python 3.8.10 64-bit ('optAlgos': conda)"
  },
  "interpreter": {
   "hash": "ba3b919a19380c03e01f18adb9941583c39169f4907f8bc2002c90bf52d7e13c"
  }
 },
 "nbformat": 4,
 "nbformat_minor": 2
}