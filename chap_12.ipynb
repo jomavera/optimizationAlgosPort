{
 "cells": [
  {
   "cell_type": "markdown",
   "source": [
    "# Chapter 12: Multiobjective Optimization"
   ],
   "metadata": {}
  },
  {
   "cell_type": "code",
   "execution_count": 2,
   "source": [
    "import numpy as np"
   ],
   "outputs": [],
   "metadata": {}
  },
  {
   "cell_type": "markdown",
   "source": [
    "## Algorithm 12.1"
   ],
   "metadata": {}
  },
  {
   "cell_type": "code",
   "execution_count": 8,
   "source": [
    "def dominates(y, y_prime):\n",
    "    return np.all(np.where(y <= y_prime, True, False)) and np.any(np.where(y < y_prime,True, False))"
   ],
   "outputs": [],
   "metadata": {}
  },
  {
   "cell_type": "markdown",
   "source": [
    "## Algorithm 12.2"
   ],
   "metadata": {}
  },
  {
   "cell_type": "code",
   "execution_count": null,
   "source": [
    "def naive_pareto(xs, ys):\n",
    "    pareto_xs, pareto_ys = np.zeros_like(xs), np.zeros_like(ys)\n",
    "    for x, y in zip(xs, ys):\n",
    "        if not np.any([dominates(y_prime, y) for y_prime in ys]):\n",
    "            pareto_xs = np.append(pareto_xs, x)\n",
    "            pareto_ys = np.append(pareto_ys, y)\n",
    "    \n",
    "    return pareto_xs, pareto_ys"
   ],
   "outputs": [],
   "metadata": {}
  }
 ],
 "metadata": {
  "orig_nbformat": 4,
  "language_info": {
   "name": "python",
   "version": "3.8.10",
   "mimetype": "text/x-python",
   "codemirror_mode": {
    "name": "ipython",
    "version": 3
   },
   "pygments_lexer": "ipython3",
   "nbconvert_exporter": "python",
   "file_extension": ".py"
  },
  "kernelspec": {
   "name": "python3",
   "display_name": "Python 3.8.10 64-bit ('optAlgos': conda)"
  },
  "interpreter": {
   "hash": "ba3b919a19380c03e01f18adb9941583c39169f4907f8bc2002c90bf52d7e13c"
  }
 },
 "nbformat": 4,
 "nbformat_minor": 2
}